{
 "cells": [
  {
   "cell_type": "code",
<<<<<<< HEAD
   "execution_count": 49,
=======
   "execution_count": 3,
>>>>>>> 6c33b4c5068440d058fbd1e5dbc92b3e9edcb4ee
   "id": "368c9907-d47d-4591-bfb0-55d35168cd78",
   "metadata": {},
   "outputs": [],
   "source": [
    "import pandas as pd\n",
    "import os\n",
    "import glob\n",
    "import numpy as np\n",
    "from matplotlib import pyplot as plt\n",
    "import seaborn as sns\n",
    "from scipy.stats import skew, kurtosis\n",
    "from scipy.stats import mannwhitneyu\n",
    "from scipy.stats import ttest_ind"
   ]
  },
  {
   "cell_type": "code",
<<<<<<< HEAD
   "execution_count": 51,
=======
   "execution_count": 4,
>>>>>>> 6c33b4c5068440d058fbd1e5dbc92b3e9edcb4ee
   "id": "c29c334f-0c1e-402c-ac8d-68c139228687",
   "metadata": {},
   "outputs": [],
   "source": [
    "web_data_filtered_control = pd.read_csv(\"../data_files/clean/web_data_filtered_control.csv\")\n",
    "web_data_filtered_test = pd.read_csv(\"../data_files/clean/web_data_filtered_test.csv\")"
   ]
  },
  {
   "cell_type": "code",
<<<<<<< HEAD
   "execution_count": 52,
=======
   "execution_count": null,
>>>>>>> 6c33b4c5068440d058fbd1e5dbc92b3e9edcb4ee
   "id": "70ea2849-a73a-48fc-9fee-d9fa12133ab4",
   "metadata": {},
   "outputs": [
    {
     "name": "stderr",
     "output_type": "stream",
     "text": [
      "C:\\Users\\faval\\AppData\\Local\\Temp\\ipykernel_20828\\3583285712.py:9: DeprecationWarning: DataFrameGroupBy.apply operated on the grouping columns. This behavior is deprecated, and in a future version of pandas the grouping columns will be excluded from the operation. Either pass `include_groups=False` to exclude the groupings or explicitly select the grouping columns after groupby to silence this warning.\n",
      "  web_data_filtered_control = web_data_filtered_control.groupby('visit_id', group_keys=False, as_index=False).apply(lambda x: keep_last_confirm(x))\n",
      "C:\\Users\\faval\\AppData\\Local\\Temp\\ipykernel_20828\\3583285712.py:10: DeprecationWarning: DataFrameGroupBy.apply operated on the grouping columns. This behavior is deprecated, and in a future version of pandas the grouping columns will be excluded from the operation. Either pass `include_groups=False` to exclude the groupings or explicitly select the grouping columns after groupby to silence this warning.\n",
      "  web_data_filtered_test = web_data_filtered_test.groupby('visit_id', group_keys=False, as_index=False).apply(lambda x: keep_last_confirm(x))\n"
     ]
    }
   ],
   "source": [
    "# Drop repeated 'confirm' steps, keeping only the last occurrence.\n",
    "def keep_last_confirm(group):\n",
    "    confirms = group.loc[group['process_step'] == 'confirm']\n",
    "    if len(confirms) > 1:\n",
    "        last_confirm = confirms.sort_values('date_time').iloc[-1:]\n",
    "        return pd.concat([group.loc[group['process_step'] != 'confirm'], last_confirm])\n",
    "    return group\n",
    "\n",
    "web_data_filtered_control = web_data_filtered_control.groupby('visit_id', group_keys=False, as_index=False).apply(lambda x: keep_last_confirm(x))\n",
    "web_data_filtered_test = web_data_filtered_test.groupby('visit_id', group_keys=False, as_index=False).apply(lambda x: keep_last_confirm(x))"
   ]
  },
  {
   "cell_type": "code",
<<<<<<< HEAD
   "execution_count": 54,
=======
   "execution_count": 6,
>>>>>>> 6c33b4c5068440d058fbd1e5dbc92b3e9edcb4ee
   "id": "a133e06c-10a0-4edf-9b2e-0b146d12efb2",
   "metadata": {},
   "outputs": [
    {
     "name": "stderr",
     "output_type": "stream",
     "text": [
<<<<<<< HEAD
      "C:\\Users\\faval\\AppData\\Local\\Temp\\ipykernel_20828\\3811871132.py:9: DeprecationWarning: DataFrameGroupBy.apply operated on the grouping columns. This behavior is deprecated, and in a future version of pandas the grouping columns will be excluded from the operation. Either pass `include_groups=False` to exclude the groupings or explicitly select the grouping columns after groupby to silence this warning.\n",
      "  web_data_filtered_control = web_data_filtered_control.groupby('visit_id', group_keys=False).apply(keep_last_start)\n",
      "C:\\Users\\faval\\AppData\\Local\\Temp\\ipykernel_20828\\3811871132.py:10: DeprecationWarning: DataFrameGroupBy.apply operated on the grouping columns. This behavior is deprecated, and in a future version of pandas the grouping columns will be excluded from the operation. Either pass `include_groups=False` to exclude the groupings or explicitly select the grouping columns after groupby to silence this warning.\n",
=======
      "C:\\Users\\faval\\AppData\\Local\\Temp\\ipykernel_9368\\3811871132.py:10: DeprecationWarning: DataFrameGroupBy.apply operated on the grouping columns. This behavior is deprecated, and in a future version of pandas the grouping columns will be excluded from the operation. Either pass `include_groups=False` to exclude the groupings or explicitly select the grouping columns after groupby to silence this warning.\n",
>>>>>>> 6c33b4c5068440d058fbd1e5dbc92b3e9edcb4ee
      "  web_data_filtered_test = web_data_filtered_test.groupby('visit_id', group_keys=False).apply(keep_last_start)\n"
     ]
    }
   ],
   "source": [
    "# Drop repeated 'start' steps, keeping only the last occurrence.\n",
    "def keep_last_start(group):\n",
    "    starts = group.loc[group['process_step'] == 'start']\n",
    "    if len(starts) > 1:\n",
    "        last_start = starts.sort_values('date_time').iloc[-1:]\n",
    "        return pd.concat([group.loc[group['process_step'] != 'start'], last_start])\n",
    "    return group\n",
    "\n",
    "web_data_filtered_control = web_data_filtered_control.groupby('visit_id', group_keys=False).apply(keep_last_start)\n",
    "web_data_filtered_test = web_data_filtered_test.groupby('visit_id', group_keys=False).apply(keep_last_start)"
   ]
  },
  {
   "cell_type": "code",
<<<<<<< HEAD
   "execution_count": 55,
=======
   "execution_count": 7,
>>>>>>> 6c33b4c5068440d058fbd1e5dbc92b3e9edcb4ee
   "id": "9d7a7915-0253-46bf-9970-cf6814ca40ed",
   "metadata": {},
   "outputs": [
    {
     "name": "stderr",
     "output_type": "stream",
     "text": [
<<<<<<< HEAD
      "C:\\Users\\faval\\AppData\\Local\\Temp\\ipykernel_20828\\3182510411.py:8: DeprecationWarning: DataFrameGroupBy.apply operated on the grouping columns. This behavior is deprecated, and in a future version of pandas the grouping columns will be excluded from the operation. Either pass `include_groups=False` to exclude the groupings or explicitly select the grouping columns after groupby to silence this warning.\n",
      "  web_data_control_completed = web_data_filtered_control.groupby('visit_id', group_keys=False).apply(filter_groups_with_confirm)\n",
      "C:\\Users\\faval\\AppData\\Local\\Temp\\ipykernel_20828\\3182510411.py:9: DeprecationWarning: DataFrameGroupBy.apply operated on the grouping columns. This behavior is deprecated, and in a future version of pandas the grouping columns will be excluded from the operation. Either pass `include_groups=False` to exclude the groupings or explicitly select the grouping columns after groupby to silence this warning.\n",
=======
      "C:\\Users\\faval\\AppData\\Local\\Temp\\ipykernel_9368\\3182510411.py:8: DeprecationWarning: DataFrameGroupBy.apply operated on the grouping columns. This behavior is deprecated, and in a future version of pandas the grouping columns will be excluded from the operation. Either pass `include_groups=False` to exclude the groupings or explicitly select the grouping columns after groupby to silence this warning.\n",
      "  web_data_control_completed = web_data_filtered_control.groupby('visit_id', group_keys=False).apply(filter_groups_with_confirm)\n",
      "C:\\Users\\faval\\AppData\\Local\\Temp\\ipykernel_9368\\3182510411.py:9: DeprecationWarning: DataFrameGroupBy.apply operated on the grouping columns. This behavior is deprecated, and in a future version of pandas the grouping columns will be excluded from the operation. Either pass `include_groups=False` to exclude the groupings or explicitly select the grouping columns after groupby to silence this warning.\n",
>>>>>>> 6c33b4c5068440d058fbd1e5dbc92b3e9edcb4ee
      "  web_data_test_completed = web_data_filtered_test.groupby('visit_id', group_keys=False).apply(filter_groups_with_confirm)\n"
     ]
    }
   ],
   "source": [
    "# Check if 'confirm' is in the process_step column for the visit_id\n",
    "def filter_groups_with_confirm(group):\n",
    "    if 'confirm' in group['process_step'].values:\n",
    "        return group\n",
    "    else:\n",
    "        return pd.DataFrame()\n",
    "\n",
    "web_data_control_completed = web_data_filtered_control.groupby('visit_id', group_keys=False).apply(filter_groups_with_confirm)\n",
    "web_data_test_completed = web_data_filtered_test.groupby('visit_id', group_keys=False).apply(filter_groups_with_confirm)"
   ]
  },
  {
   "cell_type": "code",
<<<<<<< HEAD
   "execution_count": 56,
=======
   "execution_count": 8,
>>>>>>> 6c33b4c5068440d058fbd1e5dbc92b3e9edcb4ee
   "id": "aae20908-407f-4374-85bb-961a386c9e3a",
   "metadata": {},
   "outputs": [],
   "source": [
    "# sort df by visit_id and date_time in order to check the duration\n",
    "web_data_control_completed = web_data_control_completed.sort_values(by=[\"client_id\", \"visitor_id\",'visit_id', \"date_time\"])\n",
    "web_data_test_completed = web_data_test_completed.sort_values(by=[\"client_id\", \"visitor_id\",'visit_id', \"date_time\"])"
   ]
  },
  {
   "cell_type": "code",
<<<<<<< HEAD
   "execution_count": 57,
=======
   "execution_count": 9,
>>>>>>> 6c33b4c5068440d058fbd1e5dbc92b3e9edcb4ee
   "id": "28b07f9b-e30d-45ca-9de0-f4b5a7beb7dc",
   "metadata": {},
   "outputs": [],
   "source": [
    "# cast date_time as type = date\n",
    "web_data_control_completed['date_time'] = pd.to_datetime(web_data_control_completed['date_time'])\n",
    "web_data_test_completed['date_time'] = pd.to_datetime(web_data_test_completed['date_time'])"
   ]
  },
  {
   "cell_type": "markdown",
   "id": "9045c18f-9827-413f-bba0-3a2f3a318655",
   "metadata": {},
   "source": [
    "**COMPLETION RATE**"
   ]
  },
  {
   "cell_type": "code",
<<<<<<< HEAD
   "execution_count": 63,
=======
   "execution_count": 11,
>>>>>>> 6c33b4c5068440d058fbd1e5dbc92b3e9edcb4ee
   "id": "5604799e-378f-42a7-94a3-5fab66e21e18",
   "metadata": {},
   "outputs": [],
   "source": [
    "# to calculate the completion rate we take unique clients from initial df (filtered) and compare with actually df (completed)\n",
    "unique_clients_control = web_data_control_completed['client_id'].nunique()\n",
    "unique_clients_control_total = web_data_filtered_control['client_id'].nunique()\n",
    "unique_clients_test = web_data_test_completed['client_id'].nunique()\n",
    "unique_clients_test_total = web_data_filtered_test['client_id'].nunique()"
   ]
  },
  {
   "cell_type": "code",
<<<<<<< HEAD
   "execution_count": 65,
=======
   "execution_count": 12,
>>>>>>> 6c33b4c5068440d058fbd1e5dbc92b3e9edcb4ee
   "id": "65d3ea9e-ea00-46a9-8c4a-24a1518c96a5",
   "metadata": {},
   "outputs": [
    {
     "data": {
      "text/plain": [
       "63.800000000000004"
      ]
     },
<<<<<<< HEAD
     "execution_count": 65,
=======
     "execution_count": 12,
>>>>>>> 6c33b4c5068440d058fbd1e5dbc92b3e9edcb4ee
     "metadata": {},
     "output_type": "execute_result"
    }
   ],
   "source": [
    "completition_rate_control = round(unique_clients_control/unique_clients_control_total, 4)*100\n",
    "completition_rate_control"
   ]
  },
  {
   "cell_type": "code",
<<<<<<< HEAD
   "execution_count": 67,
=======
   "execution_count": 13,
>>>>>>> 6c33b4c5068440d058fbd1e5dbc92b3e9edcb4ee
   "id": "53703f43-cc17-4cb5-b24a-cec214aa5ac5",
   "metadata": {},
   "outputs": [
    {
     "data": {
      "text/plain": [
       "67.13"
      ]
     },
<<<<<<< HEAD
     "execution_count": 67,
=======
     "execution_count": 13,
>>>>>>> 6c33b4c5068440d058fbd1e5dbc92b3e9edcb4ee
     "metadata": {},
     "output_type": "execute_result"
    }
   ],
   "source": [
    "completition_rate_test = round(unique_clients_test/unique_clients_test_total, 4)*100\n",
    "completition_rate_test"
   ]
  },
  {
   "cell_type": "markdown",
   "id": "9dd363a7-9087-41cc-af34-6e8b32a4d6ce",
   "metadata": {},
   "source": [
    "**COMPLETION LENGTH**"
   ]
  },
  {
   "cell_type": "code",
<<<<<<< HEAD
   "execution_count": 69,
=======
   "execution_count": 15,
>>>>>>> 6c33b4c5068440d058fbd1e5dbc92b3e9edcb4ee
   "id": "bad4dc5f-22a9-474b-8384-c17d4e9b2501",
   "metadata": {},
   "outputs": [],
   "source": [
    "# visit_id_check to check if the previous visit_id is the same or is different\n",
    "web_data_control_completed['visit_id_check'] = (web_data_control_completed['visit_id'] == web_data_control_completed['visit_id'].shift(1))\n",
    "web_data_test_completed['visit_id_check'] = (web_data_test_completed['visit_id'] == web_data_test_completed['visit_id'].shift(1))"
   ]
  },
  {
   "cell_type": "code",
<<<<<<< HEAD
   "execution_count": 71,
=======
   "execution_count": 16,
>>>>>>> 6c33b4c5068440d058fbd1e5dbc92b3e9edcb4ee
   "id": "21dceb4e-4f7e-490f-8674-b55a46272042",
   "metadata": {},
   "outputs": [],
   "source": [
    "# Use diff() to find the difference between consecutive datetime entries.\n",
    "web_data_control_completed['time_diff'] = web_data_control_completed['date_time'].diff()\n",
    "web_data_test_completed['time_diff'] = web_data_test_completed['date_time'].diff()"
   ]
  },
  {
   "cell_type": "code",
<<<<<<< HEAD
   "execution_count": 73,
   "id": "2af7df0a-4fd5-4f05-940f-c1c6595b90ee",
   "metadata": {},
   "outputs": [],
   "source": [
    "# time_elapsed in seconds\n",
    "web_data_control_completed['time_elapsed'] = web_data_control_completed.apply(lambda row: row['time_diff'].total_seconds() if row['visit_id_check'] else 0,axis=1)\n",
    "web_data_test_completed['time_elapsed'] = web_data_test_completed.apply(lambda row: row['time_diff'].total_seconds() if row['visit_id_check'] else 0,axis=1)"
=======
   "execution_count": 17,
   "id": "2af7df0a-4fd5-4f05-940f-c1c6595b90ee",
   "metadata": {},
   "outputs": [],
   "source": [
    "# time_elapsed in seconds\n",
    "web_data_control_completed['time_elapsed'] = web_data_control_completed.apply(lambda row: row['time_diff'].total_seconds() if row['visit_id_check'] else 0,axis=1)\n",
    "web_data_test_completed['time_elapsed'] = web_data_test_completed.apply(lambda row: row['time_diff'].total_seconds() if row['visit_id_check'] else 0,axis=1)"
   ]
  },
  {
   "cell_type": "code",
   "execution_count": 18,
   "id": "50d5ef1c-1c4f-4c00-852c-9e47d2e50a41",
   "metadata": {},
   "outputs": [],
   "source": [
    "#drop time diff column as it have duplicate info we dont need\n",
    "web_data_control_completed.drop(columns=['time_diff'], inplace=True)\n",
    "web_data_test_completed.drop(columns=['time_diff'], inplace=True)"
   ]
  },
  {
   "cell_type": "code",
   "execution_count": 19,
   "id": "f5e463a2-2b33-45e4-9e66-2a5ea2af86bd",
   "metadata": {},
   "outputs": [],
   "source": [
    "# duration of whole process grouped by visit_id\n",
    "duration_visit_control = web_data_control_completed.groupby('visit_id')['time_elapsed'].sum()/60\n",
    "duration_visit_test = web_data_test_completed.groupby('visit_id')['time_elapsed'].sum()/60"
>>>>>>> 6c33b4c5068440d058fbd1e5dbc92b3e9edcb4ee
   ]
  },
  {
   "cell_type": "code",
<<<<<<< HEAD
   "execution_count": 74,
   "id": "50d5ef1c-1c4f-4c00-852c-9e47d2e50a41",
   "metadata": {},
   "outputs": [],
   "source": [
    "#drop time diff column as it have duplicate info we dont need\n",
    "web_data_control_completed.drop(columns=['time_diff'], inplace=True)\n",
    "web_data_test_completed.drop(columns=['time_diff'], inplace=True)"
   ]
  },
  {
   "cell_type": "code",
   "execution_count": 75,
   "id": "f5e463a2-2b33-45e4-9e66-2a5ea2af86bd",
   "metadata": {},
   "outputs": [
    {
     "data": {
      "text/html": [
       "<div>\n",
       "<style scoped>\n",
       "    .dataframe tbody tr th:only-of-type {\n",
       "        vertical-align: middle;\n",
       "    }\n",
       "\n",
       "    .dataframe tbody tr th {\n",
       "        vertical-align: top;\n",
       "    }\n",
       "\n",
       "    .dataframe thead th {\n",
       "        text-align: right;\n",
       "    }\n",
       "</style>\n",
       "<table border=\"1\" class=\"dataframe\">\n",
       "  <thead>\n",
       "    <tr style=\"text-align: right;\">\n",
       "      <th></th>\n",
       "      <th>visit_id</th>\n",
       "      <th>time_elapsed</th>\n",
       "    </tr>\n",
       "  </thead>\n",
       "  <tbody>\n",
       "    <tr>\n",
       "      <th>0</th>\n",
       "      <td>10006594_66157970412_679648</td>\n",
       "      <td>5.900000</td>\n",
       "    </tr>\n",
       "    <tr>\n",
       "      <th>1</th>\n",
       "      <td>10007589_47780784567_391490</td>\n",
       "      <td>12.016667</td>\n",
       "    </tr>\n",
       "    <tr>\n",
       "      <th>2</th>\n",
       "      <td>100254180_47139859079_984581</td>\n",
       "      <td>5.683333</td>\n",
       "    </tr>\n",
       "    <tr>\n",
       "      <th>3</th>\n",
       "      <td>100309269_21684743336_936307</td>\n",
       "      <td>4.000000</td>\n",
       "    </tr>\n",
       "    <tr>\n",
       "      <th>4</th>\n",
       "      <td>100471971_3065983298_584030</td>\n",
       "      <td>2.566667</td>\n",
       "    </tr>\n",
       "    <tr>\n",
       "      <th>...</th>\n",
       "      <td>...</td>\n",
       "      <td>...</td>\n",
       "    </tr>\n",
       "    <tr>\n",
       "      <th>14897</th>\n",
       "      <td>999512351_9425260762_890767</td>\n",
       "      <td>2.683333</td>\n",
       "    </tr>\n",
       "    <tr>\n",
       "      <th>14898</th>\n",
       "      <td>999528108_94761236019_731649</td>\n",
       "      <td>3.633333</td>\n",
       "    </tr>\n",
       "    <tr>\n",
       "      <th>14899</th>\n",
       "      <td>999528902_49133507319_516085</td>\n",
       "      <td>8.550000</td>\n",
       "    </tr>\n",
       "    <tr>\n",
       "      <th>14900</th>\n",
       "      <td>999859408_41720215615_938916</td>\n",
       "      <td>4.133333</td>\n",
       "    </tr>\n",
       "    <tr>\n",
       "      <th>14901</th>\n",
       "      <td>999985675_64610694964_443659</td>\n",
       "      <td>17.500000</td>\n",
       "    </tr>\n",
       "  </tbody>\n",
       "</table>\n",
       "<p>14902 rows × 2 columns</p>\n",
       "</div>"
      ],
      "text/plain": [
       "                           visit_id  time_elapsed\n",
       "0       10006594_66157970412_679648      5.900000\n",
       "1       10007589_47780784567_391490     12.016667\n",
       "2      100254180_47139859079_984581      5.683333\n",
       "3      100309269_21684743336_936307      4.000000\n",
       "4       100471971_3065983298_584030      2.566667\n",
       "...                             ...           ...\n",
       "14897   999512351_9425260762_890767      2.683333\n",
       "14898  999528108_94761236019_731649      3.633333\n",
       "14899  999528902_49133507319_516085      8.550000\n",
       "14900  999859408_41720215615_938916      4.133333\n",
       "14901  999985675_64610694964_443659     17.500000\n",
       "\n",
       "[14902 rows x 2 columns]"
      ]
     },
     "execution_count": 75,
     "metadata": {},
     "output_type": "execute_result"
    }
   ],
   "source": [
    "# duration of whole process grouped by visit_id\n",
    "duration_visit_control = web_data_control_completed.groupby('visit_id')['time_elapsed'].sum()/60\n",
    "duration_visit_control = duration_visit_control.reset_index()\n",
    "duration_visit_control.columns = ['visit_id', 'time_elapsed']\n",
    "duration_visit_test = web_data_test_completed.groupby('visit_id')['time_elapsed'].sum()/60\n",
    "duration_visit_test = duration_visit_test.reset_index()\n",
    "duration_visit_test.columns = ['visit_id', 'time_elapsed']\n",
    "duration_visit_control"
   ]
  },
  {
   "cell_type": "code",
   "execution_count": 76,
=======
   "execution_count": 20,
>>>>>>> 6c33b4c5068440d058fbd1e5dbc92b3e9edcb4ee
   "id": "0c6619f5-86c5-4ce4-bc0a-ccc2cd186223",
   "metadata": {},
   "outputs": [],
   "source": [
    "# statistics calculation\n",
<<<<<<< HEAD
    "mean_time_control = duration_visit_control['time_elapsed'].mean()\n",
    "median_time_control = duration_visit_control['time_elapsed'].median()\n",
    "std_time_control = duration_visit_control['time_elapsed'].std()\n",
    "min_time_control = duration_visit_control['time_elapsed'].min()\n",
    "max_time_control = duration_visit_control['time_elapsed'].max()\n",
    "mean_time_test = duration_visit_test['time_elapsed'].mean()\n",
    "median_time_test = duration_visit_test['time_elapsed'].median()\n",
    "std_time_test = duration_visit_test['time_elapsed'].std()\n",
    "min_time_test = duration_visit_test['time_elapsed'].min()\n",
    "max_time_test = duration_visit_test['time_elapsed'].max()"
=======
    "mean_time_control = duration_visit_control.mean()\n",
    "median_time_control = duration_visit_control.median()\n",
    "std_time_control = duration_visit_control.std()\n",
    "min_time_control = duration_visit_control.min()\n",
    "max_time_control = duration_visit_control.max()\n",
    "mean_time_test = duration_visit_test.mean()\n",
    "median_time_test = duration_visit_test.median()\n",
    "std_time_test = duration_visit_test.std()\n",
    "min_time_test = duration_visit_test.min()\n",
    "max_time_test = duration_visit_test.max()"
>>>>>>> 6c33b4c5068440d058fbd1e5dbc92b3e9edcb4ee
   ]
  },
  {
   "cell_type": "code",
<<<<<<< HEAD
   "execution_count": 81,
=======
   "execution_count": 21,
>>>>>>> 6c33b4c5068440d058fbd1e5dbc92b3e9edcb4ee
   "id": "36028ff3-ae2c-4b5c-9974-c77bd7350137",
   "metadata": {},
   "outputs": [
    {
     "data": {
      "text/html": [
       "<div>\n",
       "<style scoped>\n",
       "    .dataframe tbody tr th:only-of-type {\n",
       "        vertical-align: middle;\n",
       "    }\n",
       "\n",
       "    .dataframe tbody tr th {\n",
       "        vertical-align: top;\n",
       "    }\n",
       "\n",
       "    .dataframe thead th {\n",
       "        text-align: right;\n",
       "    }\n",
       "</style>\n",
       "<table border=\"1\" class=\"dataframe\">\n",
       "  <thead>\n",
       "    <tr style=\"text-align: right;\">\n",
       "      <th></th>\n",
       "      <th>Control</th>\n",
       "      <th>Test</th>\n",
       "    </tr>\n",
       "  </thead>\n",
       "  <tbody>\n",
       "    <tr>\n",
       "      <th>Mean</th>\n",
       "      <td>6.387343</td>\n",
       "      <td>6.567892</td>\n",
       "    </tr>\n",
       "    <tr>\n",
       "      <th>Median</th>\n",
       "      <td>4.500000</td>\n",
       "      <td>4.033333</td>\n",
       "    </tr>\n",
       "    <tr>\n",
       "      <th>Standard Deviation</th>\n",
       "      <td>6.902998</td>\n",
       "      <td>9.097565</td>\n",
       "    </tr>\n",
       "    <tr>\n",
       "      <th>Minimum</th>\n",
       "      <td>0.583333</td>\n",
       "      <td>0.533333</td>\n",
       "    </tr>\n",
       "    <tr>\n",
       "      <th>Maximum</th>\n",
       "      <td>284.266667</td>\n",
       "      <td>300.183333</td>\n",
       "    </tr>\n",
       "  </tbody>\n",
       "</table>\n",
       "</div>"
      ],
      "text/plain": [
       "                       Control        Test\n",
       "Mean                  6.387343    6.567892\n",
       "Median                4.500000    4.033333\n",
       "Standard Deviation    6.902998    9.097565\n",
       "Minimum               0.583333    0.533333\n",
       "Maximum             284.266667  300.183333"
      ]
     },
<<<<<<< HEAD
     "execution_count": 81,
=======
     "execution_count": 21,
>>>>>>> 6c33b4c5068440d058fbd1e5dbc92b3e9edcb4ee
     "metadata": {},
     "output_type": "execute_result"
    }
   ],
   "source": [
    "# statistics df\n",
    "statistics_df = pd.DataFrame({\n",
    "    'Control': [mean_time_control, median_time_control, std_time_control, min_time_control, max_time_control],\n",
    "    'Test': [mean_time_test, median_time_test, std_time_test, min_time_test, max_time_test]}, index=['Mean', 'Median', 'Standard Deviation', 'Minimum', 'Maximum'])\n",
    "statistics_df"
   ]
  },
  {
   "cell_type": "code",
<<<<<<< HEAD
   "execution_count": 83,
=======
   "execution_count": 22,
>>>>>>> 6c33b4c5068440d058fbd1e5dbc92b3e9edcb4ee
   "id": "f0ed6793-d6e0-4dcd-ab37-2e4b015791c2",
   "metadata": {},
   "outputs": [
    {
     "data": {
      "image/png": "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",
      "text/plain": [
       "<Figure size 1000x600 with 1 Axes>"
      ]
     },
     "metadata": {},
     "output_type": "display_data"
    }
   ],
   "source": [
    "#BOX PLOT\n",
<<<<<<< HEAD
    "data = pd.DataFrame({\n",
    "    'Control': duration_visit_control['time_elapsed'],\n",
    "    'Test': duration_visit_test['time_elapsed']})\n",
=======
    "data = pd.DataFrame({'Control': duration_visit_control,'Test': duration_visit_test})\n",
>>>>>>> 6c33b4c5068440d058fbd1e5dbc92b3e9edcb4ee
    "melted_data = data.melt(var_name='Group', value_name='Duration')\n",
    "plt.figure(figsize=(10, 6))\n",
    "sns.boxplot(x='Group', y='Duration', data=melted_data, hue='Group', dodge=False, palette='pastel')\n",
    "plt.title('Durations of Completion by Group')\n",
    "plt.ylabel('Duration (minutes)')\n",
    "plt.ylim(melted_data['Duration'].quantile(0.05), melted_data['Duration'].quantile(0.95))\n",
    "plt.show()"
   ]
  },
  {
   "cell_type": "code",
<<<<<<< HEAD
   "execution_count": null,
   "id": "0254f0a9-add4-4977-91b3-1259a95b508d",
   "metadata": {},
   "outputs": [],
   "source": [
    "# HISTOGRAMS - DISTRIBUTION\n",
    "filtered_control = duration_visit_control[duration_visit_control['time_elapsed'] < 30]['time_elapsed']\n",
    "filtered_test = duration_visit_test[duration_visit_test['time_elapsed'] < 30]['time_elapsed']\n",
    "fig, axs = plt.subplots(1, 2, figsize=(12, 5), sharey=True)\n",
    "axs[0].hist(filtered_control, bins=20, edgecolor='black', color='lightpink')\n",
    "axs[0].set_title('Control Group')\n",
    "axs[0].set_xlabel('Duration (minutes)')\n",
    "axs[0].set_ylabel('Frequency')\n",
    "axs[1].hist(filtered_test, bins=20, edgecolor='black', color='lightblue')\n",
    "axs[1].set_title('Test Group')\n",
    "axs[1].set_xlabel('Duration (minutes)')\n",
    "plt.suptitle('Comparison of Visit Durations - Less than 30 minutes')\n",
=======
   "execution_count": 23,
   "id": "0254f0a9-add4-4977-91b3-1259a95b508d",
   "metadata": {},
   "outputs": [
    {
     "data": {
      "image/png": "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",
      "text/plain": [
       "<Figure size 1000x400 with 2 Axes>"
      ]
     },
     "metadata": {},
     "output_type": "display_data"
    }
   ],
   "source": [
    "# HISTOGRAMS - DISTRIBUTION\n",
    "fig, axs = plt.subplots(1, 2, figsize=(10, 4), sharey=True)\n",
    "filtered_control = [duration for duration in duration_visit_control if duration < 50]\n",
    "filtered_test = [duration for duration in duration_visit_test if duration < 50]\n",
    "# Plot Control group histogram\n",
    "axs[0].hist(filtered_control, bins=50, edgecolor='black', color='lightpink')\n",
    "axs[0].set_title('Control Group')\n",
    "axs[0].set_xlabel('Duration (minutes)')\n",
    "axs[0].set_ylabel('Frequency')\n",
    "\n",
    "# Plot Test group histogram\n",
    "axs[1].hist(filtered_test, bins=50, edgecolor='black', color='lightblue')\n",
    "axs[1].set_title('Test Group')\n",
    "axs[1].set_xlabel('Duration (minutes)')\n",
    "\n",
    "plt.suptitle('Comparison of Visit Durations - Less than 50 minutes')\n",
>>>>>>> 6c33b4c5068440d058fbd1e5dbc92b3e9edcb4ee
    "plt.tight_layout()\n",
    "plt.show()"
   ]
  },
  {
   "cell_type": "markdown",
   "id": "df730af0-fbbe-4766-a3d5-237b51e32907",
   "metadata": {},
   "source": [
    "**STEPS LENGTH FOR COMPLETED VISITS**"
   ]
  },
  {
   "cell_type": "code",
<<<<<<< HEAD
   "execution_count": 85,
=======
   "execution_count": 25,
>>>>>>> 6c33b4c5068440d058fbd1e5dbc92b3e9edcb4ee
   "id": "92ebc3ef-3196-42ab-bbff-8cb2d613ed0d",
   "metadata": {},
   "outputs": [],
   "source": [
    "# Create 'time_elapsed_steps' column by shifting 'time_elapsed' up by one row to have the seconds in each step\n",
    "web_data_control_completed['time_elapsed_steps'] = web_data_control_completed['time_elapsed'].shift(-1, fill_value=0)\n",
    "web_data_test_completed['time_elapsed_steps'] = web_data_test_completed['time_elapsed'].shift(-1, fill_value=0)"
   ]
  },
  {
   "cell_type": "code",
<<<<<<< HEAD
   "execution_count": 87,
   "id": "81428e95-d133-4aa9-b07b-c1c935a8695a",
=======
   "execution_count": 26,
   "id": "340628ac-4113-47ea-aefa-59e603ff6901",
>>>>>>> 6c33b4c5068440d058fbd1e5dbc92b3e9edcb4ee
   "metadata": {},
   "outputs": [
    {
     "data": {
      "text/html": [
       "<div>\n",
       "<style scoped>\n",
       "    .dataframe tbody tr th:only-of-type {\n",
       "        vertical-align: middle;\n",
       "    }\n",
       "\n",
       "    .dataframe tbody tr th {\n",
       "        vertical-align: top;\n",
       "    }\n",
       "\n",
       "    .dataframe thead th {\n",
       "        text-align: right;\n",
       "    }\n",
       "</style>\n",
       "<table border=\"1\" class=\"dataframe\">\n",
       "  <thead>\n",
       "    <tr style=\"text-align: right;\">\n",
       "      <th></th>\n",
       "      <th>client_id</th>\n",
       "      <th>visitor_id</th>\n",
       "      <th>visit_id</th>\n",
       "      <th>process_step</th>\n",
       "      <th>date_time</th>\n",
       "      <th>variation</th>\n",
       "      <th>visit_id_check</th>\n",
       "      <th>time_elapsed</th>\n",
       "      <th>time_elapsed_steps</th>\n",
       "    </tr>\n",
       "  </thead>\n",
       "  <tbody>\n",
       "    <tr>\n",
<<<<<<< HEAD
       "      <th>15</th>\n",
       "      <td>1195</td>\n",
       "      <td>766842522_69992551638</td>\n",
       "      <td>393817425_39015278493_996341</td>\n",
       "      <td>start</td>\n",
       "      <td>2017-04-05 20:15:26</td>\n",
       "      <td>Control</td>\n",
       "      <td>False</td>\n",
       "      <td>0.0</td>\n",
       "      <td>33.0</td>\n",
       "    </tr>\n",
       "    <tr>\n",
       "      <th>16</th>\n",
       "      <td>1195</td>\n",
       "      <td>766842522_69992551638</td>\n",
       "      <td>393817425_39015278493_996341</td>\n",
       "      <td>step_1</td>\n",
       "      <td>2017-04-05 20:15:59</td>\n",
       "      <td>Control</td>\n",
       "      <td>True</td>\n",
       "      <td>33.0</td>\n",
       "      <td>98.0</td>\n",
       "    </tr>\n",
       "    <tr>\n",
       "      <th>17</th>\n",
       "      <td>1195</td>\n",
       "      <td>766842522_69992551638</td>\n",
       "      <td>393817425_39015278493_996341</td>\n",
       "      <td>step_2</td>\n",
       "      <td>2017-04-05 20:17:37</td>\n",
       "      <td>Control</td>\n",
       "      <td>True</td>\n",
       "      <td>98.0</td>\n",
       "      <td>31.0</td>\n",
       "    </tr>\n",
       "    <tr>\n",
       "      <th>18</th>\n",
       "      <td>1195</td>\n",
       "      <td>766842522_69992551638</td>\n",
       "      <td>393817425_39015278493_996341</td>\n",
       "      <td>step_3</td>\n",
       "      <td>2017-04-05 20:18:08</td>\n",
       "      <td>Control</td>\n",
       "      <td>True</td>\n",
       "      <td>31.0</td>\n",
       "      <td>83.0</td>\n",
       "    </tr>\n",
       "    <tr>\n",
       "      <th>19</th>\n",
       "      <td>1195</td>\n",
       "      <td>766842522_69992551638</td>\n",
       "      <td>393817425_39015278493_996341</td>\n",
       "      <td>confirm</td>\n",
       "      <td>2017-04-05 20:19:31</td>\n",
       "      <td>Control</td>\n",
       "      <td>True</td>\n",
       "      <td>83.0</td>\n",
=======
       "      <th>0</th>\n",
       "      <td>555</td>\n",
       "      <td>402506806_56087378777</td>\n",
       "      <td>637149525_38041617439_716659</td>\n",
       "      <td>start</td>\n",
       "      <td>2017-04-15 12:57:56</td>\n",
       "      <td>Test</td>\n",
       "      <td>False</td>\n",
       "      <td>0.0</td>\n",
       "      <td>7.0</td>\n",
       "    </tr>\n",
       "    <tr>\n",
       "      <th>1</th>\n",
       "      <td>555</td>\n",
       "      <td>402506806_56087378777</td>\n",
       "      <td>637149525_38041617439_716659</td>\n",
       "      <td>step_1</td>\n",
       "      <td>2017-04-15 12:58:03</td>\n",
       "      <td>Test</td>\n",
       "      <td>True</td>\n",
       "      <td>7.0</td>\n",
       "      <td>32.0</td>\n",
       "    </tr>\n",
       "    <tr>\n",
       "      <th>2</th>\n",
       "      <td>555</td>\n",
       "      <td>402506806_56087378777</td>\n",
       "      <td>637149525_38041617439_716659</td>\n",
       "      <td>step_2</td>\n",
       "      <td>2017-04-15 12:58:35</td>\n",
       "      <td>Test</td>\n",
       "      <td>True</td>\n",
       "      <td>32.0</td>\n",
       "      <td>99.0</td>\n",
       "    </tr>\n",
       "    <tr>\n",
       "      <th>3</th>\n",
       "      <td>555</td>\n",
       "      <td>402506806_56087378777</td>\n",
       "      <td>637149525_38041617439_716659</td>\n",
       "      <td>step_3</td>\n",
       "      <td>2017-04-15 13:00:14</td>\n",
       "      <td>Test</td>\n",
       "      <td>True</td>\n",
       "      <td>99.0</td>\n",
       "      <td>20.0</td>\n",
       "    </tr>\n",
       "    <tr>\n",
       "      <th>4</th>\n",
       "      <td>555</td>\n",
       "      <td>402506806_56087378777</td>\n",
       "      <td>637149525_38041617439_716659</td>\n",
       "      <td>confirm</td>\n",
       "      <td>2017-04-15 13:00:34</td>\n",
       "      <td>Test</td>\n",
       "      <td>True</td>\n",
       "      <td>20.0</td>\n",
       "      <td>0.0</td>\n",
       "    </tr>\n",
       "    <tr>\n",
       "      <th>...</th>\n",
       "      <td>...</td>\n",
       "      <td>...</td>\n",
       "      <td>...</td>\n",
       "      <td>...</td>\n",
       "      <td>...</td>\n",
       "      <td>...</td>\n",
       "      <td>...</td>\n",
       "      <td>...</td>\n",
       "      <td>...</td>\n",
       "    </tr>\n",
       "    <tr>\n",
       "      <th>171475</th>\n",
       "      <td>9999729</td>\n",
       "      <td>834634258_21862004160</td>\n",
       "      <td>870243567_56915814033_814203</td>\n",
       "      <td>start</td>\n",
       "      <td>2017-05-08 16:08:25</td>\n",
       "      <td>Test</td>\n",
       "      <td>False</td>\n",
       "      <td>0.0</td>\n",
       "      <td>5.0</td>\n",
       "    </tr>\n",
       "    <tr>\n",
       "      <th>171476</th>\n",
       "      <td>9999729</td>\n",
       "      <td>834634258_21862004160</td>\n",
       "      <td>870243567_56915814033_814203</td>\n",
       "      <td>step_1</td>\n",
       "      <td>2017-05-08 16:08:30</td>\n",
       "      <td>Test</td>\n",
       "      <td>True</td>\n",
       "      <td>5.0</td>\n",
       "      <td>10.0</td>\n",
       "    </tr>\n",
       "    <tr>\n",
       "      <th>171477</th>\n",
       "      <td>9999729</td>\n",
       "      <td>834634258_21862004160</td>\n",
       "      <td>870243567_56915814033_814203</td>\n",
       "      <td>step_2</td>\n",
       "      <td>2017-05-08 16:08:40</td>\n",
       "      <td>Test</td>\n",
       "      <td>True</td>\n",
       "      <td>10.0</td>\n",
       "      <td>39.0</td>\n",
       "    </tr>\n",
       "    <tr>\n",
       "      <th>171478</th>\n",
       "      <td>9999729</td>\n",
       "      <td>834634258_21862004160</td>\n",
       "      <td>870243567_56915814033_814203</td>\n",
       "      <td>step_3</td>\n",
       "      <td>2017-05-08 16:09:19</td>\n",
       "      <td>Test</td>\n",
       "      <td>True</td>\n",
       "      <td>39.0</td>\n",
       "      <td>21.0</td>\n",
       "    </tr>\n",
       "    <tr>\n",
       "      <th>171479</th>\n",
       "      <td>9999729</td>\n",
       "      <td>834634258_21862004160</td>\n",
       "      <td>870243567_56915814033_814203</td>\n",
       "      <td>confirm</td>\n",
       "      <td>2017-05-08 16:09:40</td>\n",
       "      <td>Test</td>\n",
       "      <td>True</td>\n",
       "      <td>21.0</td>\n",
>>>>>>> 6c33b4c5068440d058fbd1e5dbc92b3e9edcb4ee
       "      <td>0.0</td>\n",
       "    </tr>\n",
       "  </tbody>\n",
       "</table>\n",
<<<<<<< HEAD
       "</div>"
      ],
      "text/plain": [
       "    client_id             visitor_id                      visit_id  \\\n",
       "15       1195  766842522_69992551638  393817425_39015278493_996341   \n",
       "16       1195  766842522_69992551638  393817425_39015278493_996341   \n",
       "17       1195  766842522_69992551638  393817425_39015278493_996341   \n",
       "18       1195  766842522_69992551638  393817425_39015278493_996341   \n",
       "19       1195  766842522_69992551638  393817425_39015278493_996341   \n",
       "\n",
       "   process_step           date_time variation  visit_id_check  time_elapsed  \\\n",
       "15        start 2017-04-05 20:15:26   Control           False           0.0   \n",
       "16       step_1 2017-04-05 20:15:59   Control            True          33.0   \n",
       "17       step_2 2017-04-05 20:17:37   Control            True          98.0   \n",
       "18       step_3 2017-04-05 20:18:08   Control            True          31.0   \n",
       "19      confirm 2017-04-05 20:19:31   Control            True          83.0   \n",
       "\n",
       "    time_elapsed_steps  \n",
       "15                33.0  \n",
       "16                98.0  \n",
       "17                31.0  \n",
       "18                83.0  \n",
       "19                 0.0  "
      ]
     },
     "execution_count": 87,
=======
       "<p>100801 rows × 9 columns</p>\n",
       "</div>"
      ],
      "text/plain": [
       "        client_id             visitor_id                      visit_id  \\\n",
       "0             555  402506806_56087378777  637149525_38041617439_716659   \n",
       "1             555  402506806_56087378777  637149525_38041617439_716659   \n",
       "2             555  402506806_56087378777  637149525_38041617439_716659   \n",
       "3             555  402506806_56087378777  637149525_38041617439_716659   \n",
       "4             555  402506806_56087378777  637149525_38041617439_716659   \n",
       "...           ...                    ...                           ...   \n",
       "171475    9999729  834634258_21862004160  870243567_56915814033_814203   \n",
       "171476    9999729  834634258_21862004160  870243567_56915814033_814203   \n",
       "171477    9999729  834634258_21862004160  870243567_56915814033_814203   \n",
       "171478    9999729  834634258_21862004160  870243567_56915814033_814203   \n",
       "171479    9999729  834634258_21862004160  870243567_56915814033_814203   \n",
       "\n",
       "       process_step           date_time variation  visit_id_check  \\\n",
       "0             start 2017-04-15 12:57:56      Test           False   \n",
       "1            step_1 2017-04-15 12:58:03      Test            True   \n",
       "2            step_2 2017-04-15 12:58:35      Test            True   \n",
       "3            step_3 2017-04-15 13:00:14      Test            True   \n",
       "4           confirm 2017-04-15 13:00:34      Test            True   \n",
       "...             ...                 ...       ...             ...   \n",
       "171475        start 2017-05-08 16:08:25      Test           False   \n",
       "171476       step_1 2017-05-08 16:08:30      Test            True   \n",
       "171477       step_2 2017-05-08 16:08:40      Test            True   \n",
       "171478       step_3 2017-05-08 16:09:19      Test            True   \n",
       "171479      confirm 2017-05-08 16:09:40      Test            True   \n",
       "\n",
       "        time_elapsed  time_elapsed_steps  \n",
       "0                0.0                 7.0  \n",
       "1                7.0                32.0  \n",
       "2               32.0                99.0  \n",
       "3               99.0                20.0  \n",
       "4               20.0                 0.0  \n",
       "...              ...                 ...  \n",
       "171475           0.0                 5.0  \n",
       "171476           5.0                10.0  \n",
       "171477          10.0                39.0  \n",
       "171478          39.0                21.0  \n",
       "171479          21.0                 0.0  \n",
       "\n",
       "[100801 rows x 9 columns]"
      ]
     },
     "execution_count": 26,
>>>>>>> 6c33b4c5068440d058fbd1e5dbc92b3e9edcb4ee
     "metadata": {},
     "output_type": "execute_result"
    }
   ],
   "source": [
<<<<<<< HEAD
    "web_data_control_completed.head()"
=======
    "web_data_control_completed\n",
    "web_data_test_completed"
>>>>>>> 6c33b4c5068440d058fbd1e5dbc92b3e9edcb4ee
   ]
  },
  {
   "cell_type": "code",
<<<<<<< HEAD
   "execution_count": 89,
=======
   "execution_count": 27,
>>>>>>> 6c33b4c5068440d058fbd1e5dbc92b3e9edcb4ee
   "id": "2e253808-2a12-4bc3-8747-a267dac355a3",
   "metadata": {},
   "outputs": [
    {
     "data": {
      "text/plain": [
       "process_step\n",
       "confirm      8.447054\n",
       "start       38.936519\n",
       "step_1      45.993871\n",
       "step_2      88.635605\n",
       "step_3     136.142522\n",
       "dtype: float64"
      ]
     },
<<<<<<< HEAD
     "execution_count": 89,
=======
     "execution_count": 27,
>>>>>>> 6c33b4c5068440d058fbd1e5dbc92b3e9edcb4ee
     "metadata": {},
     "output_type": "execute_result"
    }
   ],
   "source": [
    "# Calculate mean duration of each step for differents groups\n",
    "sum_time_elapsed_by_step_control = web_data_control_completed.groupby('process_step')['time_elapsed_steps'].sum()\n",
    "process_step_counts_control = web_data_control_completed['process_step'].value_counts()\n",
    "mean_length_step_control = sum_time_elapsed_by_step_control / process_step_counts_control\n",
    "mean_length_step_control"
   ]
  },
  {
   "cell_type": "code",
<<<<<<< HEAD
   "execution_count": 91,
=======
   "execution_count": 28,
>>>>>>> 6c33b4c5068440d058fbd1e5dbc92b3e9edcb4ee
   "id": "99928f15-6c8e-470c-8d1f-d8803ae45653",
   "metadata": {},
   "outputs": [
    {
     "data": {
      "text/plain": [
       "process_step\n",
       "confirm      2.857039\n",
       "start       31.511867\n",
       "step_1      61.999449\n",
       "step_2      89.973550\n",
       "step_3     152.439303\n",
       "dtype: float64"
      ]
     },
<<<<<<< HEAD
     "execution_count": 91,
=======
     "execution_count": 28,
>>>>>>> 6c33b4c5068440d058fbd1e5dbc92b3e9edcb4ee
     "metadata": {},
     "output_type": "execute_result"
    }
   ],
   "source": [
    "# Calculate mean duration of each step for differents groups\n",
    "sum_time_elapsed_by_step_test = web_data_test_completed.groupby('process_step')['time_elapsed_steps'].sum()\n",
    "process_step_counts_test = web_data_test_completed['process_step'].value_counts()\n",
    "mean_length_step_test = sum_time_elapsed_by_step_test / process_step_counts_test\n",
    "mean_length_step_test"
   ]
  },
  {
   "cell_type": "code",
<<<<<<< HEAD
   "execution_count": 93,
=======
   "execution_count": 29,
>>>>>>> 6c33b4c5068440d058fbd1e5dbc92b3e9edcb4ee
   "id": "cf9b3fd8-f6ba-40bd-817a-1cda73abb014",
   "metadata": {},
   "outputs": [
    {
     "data": {
      "image/png": "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",
      "text/plain": [
       "<Figure size 1200x600 with 2 Axes>"
      ]
     },
     "metadata": {},
     "output_type": "display_data"
    }
   ],
   "source": [
    "# Exclude the \"confirm\" process step as shouldnt have values different form 0\n",
    "mean_length_step_control_filtered = mean_length_step_control.drop('confirm', errors='ignore')\n",
    "mean_length_step_test_filtered = mean_length_step_test.drop('confirm', errors='ignore')\n",
    "pastel_colors = ['#FFB3BA', '#FFDFBA', '#FFFFBA', '#B9FBC0', '#BAE1FF']\n",
    "# Set up the figure with two subplots side by side\n",
    "fig, axes = plt.subplots(1, 2, figsize=(12, 6))\n",
    "# Plot the first pie chart for control\n",
    "axes[0].pie(mean_length_step_control_filtered, labels=mean_length_step_control_filtered.index, autopct='%1.1f%%', startangle=140, colors=pastel_colors)\n",
    "axes[0].set_title('Mean Duration of Each Process Step: Control')\n",
    "# Plot the second pie chart for test\n",
    "axes[1].pie(mean_length_step_test_filtered, labels=mean_length_step_test_filtered.index, autopct='%1.1f%%', startangle=140, colors=pastel_colors)\n",
    "axes[1].set_title('Mean Duration of Each Process Step: Test')\n",
    "# Adjust layout to make space for titles and labels\n",
    "plt.tight_layout()\n",
    "# Display the plots\n",
    "plt.show()"
   ]
  },
  {
   "cell_type": "markdown",
<<<<<<< HEAD
   "id": "5950e738-47bc-462a-8249-7d5c8bc93401",
   "metadata": {},
   "source": [
    "**HYPOTHESIS**"
   ]
  },
  {
   "cell_type": "markdown",
   "id": "43b3382e-19af-4702-bc63-5ecb7d8e3e31",
   "metadata": {},
   "source": [
    "**Hypothesis Setup:** median"
=======
   "id": "43b3382e-19af-4702-bc63-5ecb7d8e3e31",
   "metadata": {},
   "source": [
    "**Hypotheses Setup:** median"
>>>>>>> 6c33b4c5068440d058fbd1e5dbc92b3e9edcb4ee
   ]
  },
  {
   "cell_type": "markdown",
   "id": "1b8d42f1-96ef-4950-b49f-b3cb6b7fe794",
   "metadata": {},
   "source": [
    "Null Hypothesis (H0): The median time for the Test group is equal to or greater than the median time for the Control group. Formally: Median_Time_Test ≥ Median_Time_Control.\n",
    "\n",
    "Alternative Hypothesis (H1): The median time for the Test group is less than the median time for the Control group. Formally: Median_Time_Test < Median_Time_Control."
   ]
  },
  {
   "cell_type": "code",
<<<<<<< HEAD
   "execution_count": 95,
=======
   "execution_count": 32,
>>>>>>> 6c33b4c5068440d058fbd1e5dbc92b3e9edcb4ee
   "id": "10f20683-ae85-41f0-bb64-ee01c501e540",
   "metadata": {},
   "outputs": [
    {
     "name": "stdout",
     "output_type": "stream",
     "text": [
      "Statistics=123874096.500, p=0.000\n",
      "Reject the null hypothesis - the median time for Test is significantly less.\n"
     ]
    }
   ],
   "source": [
    "# Perform the Mann-Whitney U test with a one-sided hypothesis ('less')\n",
<<<<<<< HEAD
    "stat, p_value = mannwhitneyu(duration_visit_test[\"time_elapsed\"], duration_visit_control[\"time_elapsed\"], alternative='less')\n",
=======
    "stat, p_value = mannwhitneyu(duration_visit_test, duration_visit_control, alternative='less')\n",
>>>>>>> 6c33b4c5068440d058fbd1e5dbc92b3e9edcb4ee
    "print('Statistics=%.3f, p=%.3f' % (stat, p_value))\n",
    "# Interpretation\n",
    "alpha = 0.05\n",
    "if p_value < alpha:\n",
    "    print('Reject the null hypothesis - the median time for Test is significantly less.')\n",
    "else:\n",
    "    print('Fail to reject the null hypothesis - no significant evidence that the median time for Test is less.')"
   ]
  },
  {
   "cell_type": "markdown",
   "id": "9e750b55-7e7b-4f5a-b93c-7ad09807f8ec",
   "metadata": {},
   "source": [
<<<<<<< HEAD
    "**Hypothesis Setup:** mean"
=======
    "**Hypotheses Setup:** mean"
>>>>>>> 6c33b4c5068440d058fbd1e5dbc92b3e9edcb4ee
   ]
  },
  {
   "cell_type": "markdown",
   "id": "91d3fa93-268b-45ad-8f08-2d1911216231",
   "metadata": {},
   "source": [
    "Null Hypothesis (H0): The mean time for the Test group is equal to or greater than the mean time for the Control group. Mean_Time_Test ≥ Mean_Time_Control.\n",
    "\n",
    "Alternative Hypothesis (H1): The mean time for the Test group is less than the mean time for the Control group. Mean_Time_Test < Mean_Time_Control"
   ]
  },
  {
   "cell_type": "code",
<<<<<<< HEAD
   "execution_count": 97,
=======
   "execution_count": 35,
>>>>>>> 6c33b4c5068440d058fbd1e5dbc92b3e9edcb4ee
   "id": "cd993cd3-780f-499d-a56a-711cbfdad57d",
   "metadata": {},
   "outputs": [
    {
     "name": "stdout",
     "output_type": "stream",
     "text": [
      "Statistics=1.992, p=0.977\n",
      "Fail to reject the null hypothesis - no significant evidence that the mean time for Test is less.\n"
     ]
    }
   ],
   "source": [
    "# Perform the t-test with 'less' alternative hypothesis\n",
<<<<<<< HEAD
    "stat, p_value = ttest_ind(duration_visit_test[\"time_elapsed\"], duration_visit_control[\"time_elapsed\"], alternative='less')\n",
=======
    "stat, p_value = ttest_ind(duration_visit_test, duration_visit_control, alternative='less')\n",
>>>>>>> 6c33b4c5068440d058fbd1e5dbc92b3e9edcb4ee
    "print('Statistics=%.3f, p=%.3f' % (stat, p_value))\n",
    "# Interpretation\n",
    "alpha = 0.05\n",
    "if p_value < alpha:\n",
    "    print('Reject the null hypothesis - the mean time for Test is significantly less.')\n",
    "else:\n",
    "    print('Fail to reject the null hypothesis - no significant evidence that the mean time for Test is less.')"
   ]
  },
  {
<<<<<<< HEAD
   "cell_type": "markdown",
   "id": "bb288758-2cbb-4798-931f-607ff9891754",
   "metadata": {},
   "source": [
    "**SAVE FILES**"
=======
   "cell_type": "code",
   "execution_count": 36,
   "id": "8ddc0a31-b7d8-4b3d-a5b4-825196c8572d",
   "metadata": {},
   "outputs": [
    {
     "data": {
      "text/html": [
       "<div>\n",
       "<style scoped>\n",
       "    .dataframe tbody tr th:only-of-type {\n",
       "        vertical-align: middle;\n",
       "    }\n",
       "\n",
       "    .dataframe tbody tr th {\n",
       "        vertical-align: top;\n",
       "    }\n",
       "\n",
       "    .dataframe thead th {\n",
       "        text-align: right;\n",
       "    }\n",
       "</style>\n",
       "<table border=\"1\" class=\"dataframe\">\n",
       "  <thead>\n",
       "    <tr style=\"text-align: right;\">\n",
       "      <th></th>\n",
       "      <th>client_id</th>\n",
       "      <th>visitor_id</th>\n",
       "      <th>visit_id</th>\n",
       "      <th>process_step</th>\n",
       "      <th>date_time</th>\n",
       "      <th>variation</th>\n",
       "      <th>visit_id_check</th>\n",
       "      <th>time_elapsed</th>\n",
       "      <th>time_elapsed_steps</th>\n",
       "    </tr>\n",
       "  </thead>\n",
       "  <tbody>\n",
       "    <tr>\n",
       "      <th>757</th>\n",
       "      <td>36986</td>\n",
       "      <td>128462938_15148991657</td>\n",
       "      <td>610763272_78958974287_186487</td>\n",
       "      <td>step_1</td>\n",
       "      <td>2017-04-12 14:40:56</td>\n",
       "      <td>Test</td>\n",
       "      <td>False</td>\n",
       "      <td>0.0</td>\n",
       "      <td>17.0</td>\n",
       "    </tr>\n",
       "    <tr>\n",
       "      <th>758</th>\n",
       "      <td>36986</td>\n",
       "      <td>128462938_15148991657</td>\n",
       "      <td>610763272_78958974287_186487</td>\n",
       "      <td>step_2</td>\n",
       "      <td>2017-04-12 14:41:13</td>\n",
       "      <td>Test</td>\n",
       "      <td>True</td>\n",
       "      <td>17.0</td>\n",
       "      <td>39.0</td>\n",
       "    </tr>\n",
       "    <tr>\n",
       "      <th>759</th>\n",
       "      <td>36986</td>\n",
       "      <td>128462938_15148991657</td>\n",
       "      <td>610763272_78958974287_186487</td>\n",
       "      <td>step_3</td>\n",
       "      <td>2017-04-12 14:41:52</td>\n",
       "      <td>Test</td>\n",
       "      <td>True</td>\n",
       "      <td>39.0</td>\n",
       "      <td>69.0</td>\n",
       "    </tr>\n",
       "    <tr>\n",
       "      <th>760</th>\n",
       "      <td>36986</td>\n",
       "      <td>128462938_15148991657</td>\n",
       "      <td>610763272_78958974287_186487</td>\n",
       "      <td>confirm</td>\n",
       "      <td>2017-04-12 14:43:01</td>\n",
       "      <td>Test</td>\n",
       "      <td>True</td>\n",
       "      <td>69.0</td>\n",
       "      <td>42.0</td>\n",
       "    </tr>\n",
       "    <tr>\n",
       "      <th>761</th>\n",
       "      <td>36986</td>\n",
       "      <td>128462938_15148991657</td>\n",
       "      <td>610763272_78958974287_186487</td>\n",
       "      <td>step_1</td>\n",
       "      <td>2017-04-12 14:43:43</td>\n",
       "      <td>Test</td>\n",
       "      <td>True</td>\n",
       "      <td>42.0</td>\n",
       "      <td>91.0</td>\n",
       "    </tr>\n",
       "    <tr>\n",
       "      <th>763</th>\n",
       "      <td>36986</td>\n",
       "      <td>128462938_15148991657</td>\n",
       "      <td>610763272_78958974287_186487</td>\n",
       "      <td>step_1</td>\n",
       "      <td>2017-04-12 14:45:14</td>\n",
       "      <td>Test</td>\n",
       "      <td>True</td>\n",
       "      <td>91.0</td>\n",
       "      <td>18.0</td>\n",
       "    </tr>\n",
       "    <tr>\n",
       "      <th>764</th>\n",
       "      <td>36986</td>\n",
       "      <td>128462938_15148991657</td>\n",
       "      <td>610763272_78958974287_186487</td>\n",
       "      <td>step_2</td>\n",
       "      <td>2017-04-12 14:45:32</td>\n",
       "      <td>Test</td>\n",
       "      <td>True</td>\n",
       "      <td>18.0</td>\n",
       "      <td>14.0</td>\n",
       "    </tr>\n",
       "    <tr>\n",
       "      <th>765</th>\n",
       "      <td>36986</td>\n",
       "      <td>128462938_15148991657</td>\n",
       "      <td>610763272_78958974287_186487</td>\n",
       "      <td>step_3</td>\n",
       "      <td>2017-04-12 14:45:46</td>\n",
       "      <td>Test</td>\n",
       "      <td>True</td>\n",
       "      <td>14.0</td>\n",
       "      <td>101.0</td>\n",
       "    </tr>\n",
       "    <tr>\n",
       "      <th>766</th>\n",
       "      <td>36986</td>\n",
       "      <td>128462938_15148991657</td>\n",
       "      <td>610763272_78958974287_186487</td>\n",
       "      <td>start</td>\n",
       "      <td>2017-04-12 14:47:27</td>\n",
       "      <td>Test</td>\n",
       "      <td>True</td>\n",
       "      <td>101.0</td>\n",
       "      <td>13.0</td>\n",
       "    </tr>\n",
       "    <tr>\n",
       "      <th>767</th>\n",
       "      <td>36986</td>\n",
       "      <td>128462938_15148991657</td>\n",
       "      <td>610763272_78958974287_186487</td>\n",
       "      <td>step_1</td>\n",
       "      <td>2017-04-12 14:47:40</td>\n",
       "      <td>Test</td>\n",
       "      <td>True</td>\n",
       "      <td>13.0</td>\n",
       "      <td>0.0</td>\n",
       "    </tr>\n",
       "  </tbody>\n",
       "</table>\n",
       "</div>"
      ],
      "text/plain": [
       "     client_id             visitor_id                      visit_id  \\\n",
       "757      36986  128462938_15148991657  610763272_78958974287_186487   \n",
       "758      36986  128462938_15148991657  610763272_78958974287_186487   \n",
       "759      36986  128462938_15148991657  610763272_78958974287_186487   \n",
       "760      36986  128462938_15148991657  610763272_78958974287_186487   \n",
       "761      36986  128462938_15148991657  610763272_78958974287_186487   \n",
       "763      36986  128462938_15148991657  610763272_78958974287_186487   \n",
       "764      36986  128462938_15148991657  610763272_78958974287_186487   \n",
       "765      36986  128462938_15148991657  610763272_78958974287_186487   \n",
       "766      36986  128462938_15148991657  610763272_78958974287_186487   \n",
       "767      36986  128462938_15148991657  610763272_78958974287_186487   \n",
       "\n",
       "    process_step           date_time variation  visit_id_check  time_elapsed  \\\n",
       "757       step_1 2017-04-12 14:40:56      Test           False           0.0   \n",
       "758       step_2 2017-04-12 14:41:13      Test            True          17.0   \n",
       "759       step_3 2017-04-12 14:41:52      Test            True          39.0   \n",
       "760      confirm 2017-04-12 14:43:01      Test            True          69.0   \n",
       "761       step_1 2017-04-12 14:43:43      Test            True          42.0   \n",
       "763       step_1 2017-04-12 14:45:14      Test            True          91.0   \n",
       "764       step_2 2017-04-12 14:45:32      Test            True          18.0   \n",
       "765       step_3 2017-04-12 14:45:46      Test            True          14.0   \n",
       "766        start 2017-04-12 14:47:27      Test            True         101.0   \n",
       "767       step_1 2017-04-12 14:47:40      Test            True          13.0   \n",
       "\n",
       "     time_elapsed_steps  \n",
       "757                17.0  \n",
       "758                39.0  \n",
       "759                69.0  \n",
       "760                42.0  \n",
       "761                91.0  \n",
       "763                18.0  \n",
       "764                14.0  \n",
       "765               101.0  \n",
       "766                13.0  \n",
       "767                 0.0  "
      ]
     },
     "execution_count": 36,
     "metadata": {},
     "output_type": "execute_result"
    }
   ],
   "source": [
    "selected_rows = web_data_test_completed.iloc[433:443]\n",
    "selected_rows"
>>>>>>> 6c33b4c5068440d058fbd1e5dbc92b3e9edcb4ee
   ]
  },
  {
   "cell_type": "code",
   "execution_count": null,
<<<<<<< HEAD
   "id": "72bcbe5e-3f2f-4916-bd99-348fbc3d70fe",
   "metadata": {},
   "outputs": [],
   "source": [
    "duration_visit_control.to_csv('duration_visit_control.csv', index=False)\n",
    "duration_visit_test.to_csv('duration_visit_test.csv', index=False)\n",
    "web_data_control_completed.to_csv('web_data_control_completed.csv', index=False)\n",
    "web_data_test_completed.to_csv('web_data_test_completed.csv', index=False)"
   ]
  },
  {
   "cell_type": "code",
   "execution_count": null,
   "id": "012f8ed0-0e45-4b8b-b176-6caa7331be3a",
=======
   "id": "0bd27c04-dd9f-4518-bd0c-7eee1790e796",
>>>>>>> 6c33b4c5068440d058fbd1e5dbc92b3e9edcb4ee
   "metadata": {},
   "outputs": [],
   "source": []
  }
 ],
 "metadata": {
  "kernelspec": {
   "display_name": "Python 3 (ipykernel)",
   "language": "python",
   "name": "python3"
  },
  "language_info": {
   "codemirror_mode": {
    "name": "ipython",
    "version": 3
   },
   "file_extension": ".py",
   "mimetype": "text/x-python",
   "name": "python",
   "nbconvert_exporter": "python",
   "pygments_lexer": "ipython3",
   "version": "3.12.3"
  }
 },
 "nbformat": 4,
 "nbformat_minor": 5
}
