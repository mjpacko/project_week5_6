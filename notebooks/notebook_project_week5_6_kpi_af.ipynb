{
 "cells": [
  {
   "cell_type": "code",
   "execution_count": null,
   "id": "368c9907-d47d-4591-bfb0-55d35168cd78",
   "metadata": {},
   "outputs": [],
   "source": [
    "import pandas as pd\n",
    "import os\n",
    "import glob\n",
    "import numpy as np\n",
    "from matplotlib import pyplot as plt\n",
    "import seaborn as sns\n",
    "from scipy.stats import skew, kurtosis"
   ]
  },
  {
   "cell_type": "code",
   "execution_count": null,
   "id": "c29c334f-0c1e-402c-ac8d-68c139228687",
   "metadata": {},
   "outputs": [],
   "source": [
    "web_data_merged_control = pd.read_csv(\"../data_files/clean/web_data_filtered_control.csv\")\n",
    "web_data_merged_test = pd.read_csv(\"../data_files/clean/web_data_filtered_test.csv\")"
   ]
  },
  {
   "cell_type": "code",
   "execution_count": null,
   "id": "21f95af1-c109-4b78-a089-86f65b0334c4",
   "metadata": {},
   "outputs": [],
   "source": [
    "def remove_consecutive_starts(group):\n",
    "    drop_indices = []\n",
    "    for i in range(1, len(group)):\n",
    "        if group.iloc[i]['process_step'] == 'start' and group.iloc[i-1]['process_step'] == 'start':\n",
    "            drop_indices.append(group.index[i-1])\n",
    "    \n",
    "    return group.drop(drop_indices)\n",
    "\n",
    "web_data_merged_control = web_data_merged_control.groupby('visit_id', group_keys=False).apply(remove_consecutive_starts)\n",
    "web_data_merged_test = web_data_merged_test.groupby('visit_id', group_keys=False).apply(remove_consecutive_starts)"
   ]
  },
  {
   "cell_type": "code",
   "execution_count": null,
   "id": "70ea2849-a73a-48fc-9fee-d9fa12133ab4",
   "metadata": {},
   "outputs": [],
   "source": [
    "def remove_consecutive_confirm (group):\n",
    "    drop_indices = []\n",
    "    for i in range(1, len(group)):\n",
    "        if group.iloc[i]['process_step'] == 'confirm' and group.iloc[i-1]['process_step'] == 'confirm':\n",
    "            drop_indices.append(group.index[i-1])\n",
    "    \n",
    "    return group.drop(drop_indices)\n",
    "\n",
    "web_data_merged_control = web_data_merged_control.groupby('visit_id', group_keys=False).apply(remove_consecutive_confirm)\n",
    "web_data_merged_test = web_data_merged_test.groupby('visit_id', group_keys=False).apply(remove_consecutive_confirm)"
   ]
  },
  {
   "cell_type": "code",
   "execution_count": null,
   "id": "b271ea0c-4708-4dc0-8de9-43f66b775615",
   "metadata": {},
   "outputs": [],
   "source": [
    "# Check if `visit_id` in the current row is the same as the previous row\n",
    "web_data_merged_control['visit_id_check'] = web_data_merged_control['visit_id'] == web_data_merged_control['visit_id'].shift(1)\n",
    "web_data_merged_test['visit_id_check'] = web_data_merged_test['visit_id'] == web_data_merged_test['visit_id'].shift(1)"
   ]
  },
  {
   "cell_type": "code",
   "execution_count": null,
   "id": "21dceb4e-4f7e-490f-8674-b55a46272042",
   "metadata": {},
   "outputs": [],
   "source": [
    "# Use diff() to find the difference between consecutive datetime entries.\n",
    "web_data_merged_control['time_diff'] = web_data_merged_control['date_time'].diff()\n",
    "web_data_merged_test['time_diff'] = web_data_merged_test['date_time'].diff()\n",
    "# Calculate 'time_elapsed' based on 'visit_id_check'\n",
    "web_data_merged_control['time_elapsed'] = web_data_merged_control.apply(lambda row: row['time_diff'].total_seconds() if row['visit_id_check'] else 0,axis=1)\n",
    "web_data_merged_test['time_elapsed'] = web_data_merged_test.apply(lambda row: row['time_diff'].total_seconds() if row['visit_id_check'] else 0,axis=1)"
   ]
  },
  {
   "cell_type": "code",
   "execution_count": null,
   "id": "f5e463a2-2b33-45e4-9e66-2a5ea2af86bd",
   "metadata": {},
   "outputs": [],
   "source": [
    "duration_visit_control = web_data_merged_control.groupby('visit_id')['time_elapsed'].sum()/60\n",
    "duration_visit_test = web_data_merged_test.groupby('visit_id')['time_elapsed'].sum()/60"
   ]
  },
  {
   "cell_type": "code",
   "execution_count": null,
   "id": "0c6619f5-86c5-4ce4-bc0a-ccc2cd186223",
   "metadata": {},
   "outputs": [],
   "source": [
    "mean_time_control = duration_visit_control.mean()\n",
    "median_time_control = duration_visit_control.median()\n",
    "std_time_control = duration_visit_control.std()\n",
    "min_time_control = duration_visit_control.min()\n",
    "max_time_control = duration_visit_control.max()\n",
    "mean_time_test = duration_visit_test.mean()\n",
    "median_time_test = duration_visit_test.median()\n",
    "std_time_test = duration_visit_test.std()\n",
    "min_time_test = duration_visit_test.min()\n",
    "max_time_test = duration_visit_test.max()"
   ]
  },
  {
   "cell_type": "code",
   "execution_count": null,
   "id": "36028ff3-ae2c-4b5c-9974-c77bd7350137",
   "metadata": {},
   "outputs": [],
   "source": [
    "statistics_df = pd.DataFrame({\n",
    "    'Control': [mean_time_control, median_time_control, std_time_control, min_time_control, max_time_control],\n",
    "    'Test': [mean_time_test, median_time_test, std_time_test, min_time_test, max_time_test]\n",
    "}, index=['Mean', 'Median', 'Standard Deviation', 'Minimum', 'Maximum'])\n",
    "statistics_df"
   ]
  },
  {
   "cell_type": "code",
   "execution_count": null,
   "id": "f0ed6793-d6e0-4dcd-ab37-2e4b015791c2",
   "metadata": {},
   "outputs": [],
   "source": [
    "data = pd.DataFrame({'Control': duration_visit_control,'Test': duration_visit_test})\n",
    "melted_data = data.melt(var_name='Group', value_name='Duration')\n",
    "plt.figure(figsize=(10, 6))\n",
    "sns.boxplot(x='Group', y='Duration', data=melted_data, hue='Group', dodge=False, palette='pastel')\n",
    "plt.title('Box Plot of Visit Durations by Group')\n",
    "plt.xlabel('Group')\n",
    "plt.ylabel('Duration (minutes)')\n",
    "plt.ylim(melted_data['Duration'].quantile(0.05), melted_data['Duration'].quantile(0.95))\n",
    "plt.show()"
   ]
  }
 ],
 "metadata": {
  "kernelspec": {
   "display_name": "Python 3 (ipykernel)",
   "language": "python",
   "name": "python3"
  },
  "language_info": {
   "codemirror_mode": {
    "name": "ipython",
    "version": 3
   },
   "file_extension": ".py",
   "mimetype": "text/x-python",
   "name": "python",
   "nbconvert_exporter": "python",
   "pygments_lexer": "ipython3",
   "version": "3.12.3"
  }
 },
 "nbformat": 4,
 "nbformat_minor": 5
}
