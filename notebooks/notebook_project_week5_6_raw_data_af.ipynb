{
 "cells": [
  {
   "cell_type": "code",
   "execution_count": null,
   "id": "368c9907-d47d-4591-bfb0-55d35168cd78",
   "metadata": {},
   "outputs": [],
   "source": [
    "import pandas as pd\n",
    "import os\n",
    "import glob\n",
    "import numpy as np\n",
    "from matplotlib import pyplot as plt\n",
    "import seaborn as sns"
   ]
  },
  {
   "cell_type": "code",
   "execution_count": null,
   "id": "c29c334f-0c1e-402c-ac8d-68c139228687",
   "metadata": {},
   "outputs": [],
   "source": [
    "df_client_demo = pd.read_csv(r'C:\\Users\\faval\\Desktop\\Ironhack\\DataAnalytics\\week5\\project_week5_6\\data_files\\raw\\df_final_demo.csv')\n",
    "df_experiment = pd.read_csv(r'C:\\Users\\faval\\Desktop\\Ironhack\\DataAnalytics\\week5\\project_week5_6\\data_files\\raw\\df_final_experiment_clients.csv')\n",
    "df_web_data_pt_1 = pd.read_csv(r'C:\\Users\\faval\\Desktop\\Ironhack\\DataAnalytics\\week5\\project_week5_6\\data_files\\raw\\df_final_web_data_pt_1.csv')\n",
    "df_web_data_pt_2 = pd.read_csv(r'C:\\Users\\faval\\Desktop\\Ironhack\\DataAnalytics\\week5\\project_week5_6\\data_files\\raw\\df_final_web_data_pt_2.csv')"
   ]
  },
  {
   "cell_type": "code",
   "execution_count": null,
   "id": "b9d29a1d-70b1-4acf-b9fa-982fa3e36595",
   "metadata": {},
   "outputs": [],
   "source": [
    "df_web_data_pt_1.shape"
   ]
  },
  {
   "cell_type": "code",
   "execution_count": null,
   "id": "4f0528e8-8d59-4af6-8733-3a797b8b78f0",
   "metadata": {},
   "outputs": [],
   "source": [
    "df_web_data_pt_2.shape"
   ]
  },
  {
   "cell_type": "code",
   "execution_count": null,
   "id": "d57e6dc7-e13a-40df-8193-db0446952aa6",
   "metadata": {},
   "outputs": [],
   "source": [
    "df_web_data_pt_1.info()"
   ]
  },
  {
   "cell_type": "code",
   "execution_count": null,
   "id": "281a0201-1a8d-48c6-812b-052f80df7d88",
   "metadata": {},
   "outputs": [],
   "source": [
    "df_web_data_pt_2.info()"
   ]
  },
  {
   "cell_type": "code",
   "execution_count": null,
   "id": "22fa2bd4-d474-4782-b971-ee7aedd79c03",
   "metadata": {},
   "outputs": [],
   "source": [
    "df_web_data_pt_1.columns"
   ]
  },
  {
   "cell_type": "code",
   "execution_count": null,
   "id": "aaeedfea-d4b3-438c-828d-e97eae5c7bad",
   "metadata": {},
   "outputs": [],
   "source": [
    "df_web_data_pt_2.columns"
   ]
  },
  {
   "cell_type": "code",
   "execution_count": null,
   "id": "5ae1982b-1dd2-4f6e-b7be-d188a69a4f42",
   "metadata": {},
   "outputs": [],
   "source": [
    "# concat df_final_web_data_pt_1 and df_final_web_data_pt_2 after checkong shape, columns and non-values\n",
    "df_web_data = pd.concat([df_web_data_pt_1, df_web_data_pt_2], axis=0, ignore_index=True)\n",
    "df_web_data.info()"
   ]
  },
  {
   "cell_type": "code",
   "execution_count": null,
   "id": "8b277305-54ff-41fd-be6f-5340dbc493ef",
   "metadata": {},
   "outputs": [],
   "source": [
    "df_web_data.head()"
   ]
  },
  {
   "cell_type": "code",
   "execution_count": null,
   "id": "01824f4d-f72e-4ae4-96d8-d55bd6ccfcd1",
   "metadata": {},
   "outputs": [],
   "source": [
    "# cast date_time as type date time\n",
    "df_web_data['date_time'] = pd.to_datetime(df_web_data['date_time'])\n",
    "df_web_data.info()"
   ]
  },
  {
   "cell_type": "code",
   "execution_count": null,
   "id": "68351f74-396d-4e48-90c8-50c0cb5c756d",
   "metadata": {},
   "outputs": [],
   "source": [
    "#calculate length\n",
    "\n",
    "# Shift the 'date_time' column to compare each row with the next row\n",
    "#df_web_data['next_time'] = df_web_data['date_time'].shift(-1)\n",
    "\n",
    "# Calculate the difference between the current and next time\n",
    "#df_web_data['time_diff'] = df_web_data['next_time'] - df_web_data['date_time']\n",
    "\n",
    "# Convert time difference to minutes\n",
    "#df_web_data['time_diff_minutes'] = df_web_data['time_diff'].dt.total_seconds() / 60\n",
    "\n",
    "# Only keep relevant rows for this calculation\n",
    "#df_final = df.loc[:, ['date_time', 'time_diff_minutes']]\n",
    "#df_web_data.head()"
   ]
  },
  {
   "cell_type": "code",
   "execution_count": null,
   "id": "a693a528-b3f0-4434-bc2c-77841f072a70",
   "metadata": {},
   "outputs": [],
   "source": [
    "df_client_demo.columns"
   ]
  },
  {
   "cell_type": "code",
   "execution_count": null,
   "id": "2e64d14e-eaa0-4502-9b8f-1552291efa06",
   "metadata": {},
   "outputs": [],
   "source": [
    "columns_rename = {\n",
    "    'clnt_tenure_yr': 'client_tenure_year',\n",
    "    'clnt_tenure_mnth': 'client_tenure_month',\n",
    "    'clnt_age': 'client_age',\n",
    "    'gendr': 'gender',\n",
    "    'num_accts': 'num_accounts',\n",
    "    'bal': 'balance',\n",
    "    'calls_6_mnth': 'calls_6_months',\n",
    "    'logons_6_mnth': 'logons_6_months'\n",
    "}\n",
    "df_client_demo = df_client_demo.rename(columns=columns_rename)"
   ]
  },
  {
   "cell_type": "code",
   "execution_count": null,
   "id": "59785926-b871-4d07-89ca-58c1b077100e",
   "metadata": {},
   "outputs": [],
   "source": [
    "df_client_demo.info()"
   ]
  },
  {
   "cell_type": "code",
   "execution_count": null,
   "id": "5a82f7e2-4e1e-4607-9a30-2c993b0a31af",
   "metadata": {},
   "outputs": [],
   "source": [
    "# check rows with null values\n",
    "null_client_age_rows = df_client_demo[df_client_demo['client_age'].isnull()]\n",
    "print(null_client_age_rows)"
   ]
  },
  {
   "cell_type": "code",
   "execution_count": null,
   "id": "1a3100ca-01b6-4357-a9a8-4eb997ac44c1",
   "metadata": {},
   "outputs": [],
   "source": [
    "# we decided to drop 15 rows with null values, are insignificant part of the complete data\n",
    "df_client_demo = df_client_demo.dropna(subset=['client_age'])"
   ]
  },
  {
   "cell_type": "code",
   "execution_count": null,
   "id": "1b126557-99f2-47f9-8ff8-4d8e634ad270",
   "metadata": {},
   "outputs": [],
   "source": [
    "# Round the 'client_age' values and convert to integer\n",
    "df_client_demo['client_age'] = df_client_demo['client_age'].round().astype(int)"
   ]
  },
  {
   "cell_type": "code",
   "execution_count": null,
   "id": "dd7fb0c2-76bc-471c-89a8-bb8a691afe2d",
   "metadata": {},
   "outputs": [],
   "source": [
    "df_experiment.columns"
   ]
  },
  {
   "cell_type": "code",
   "execution_count": null,
   "id": "7f60800b-df79-4a06-a738-03139b46fb92",
   "metadata": {},
   "outputs": [],
   "source": [
    "df_experiment = df_experiment.rename(columns={'Variation': 'variation'})"
   ]
  },
  {
   "cell_type": "code",
   "execution_count": null,
   "id": "04215631-bef7-4213-a510-64e65676d4f8",
   "metadata": {},
   "outputs": [],
   "source": [
    "df_experiment.info()"
   ]
  },
  {
   "cell_type": "code",
   "execution_count": 54,
   "id": "a447ddb0-798f-479c-85cd-2bd305d39320",
   "metadata": {},
   "outputs": [],
   "source": [
    "# Save the clean DataFrame to a CSV file\n",
    "df_client_demo.to_csv('df_client_demo.csv', index=False)"
   ]
  },
  {
   "cell_type": "code",
   "execution_count": 56,
   "id": "b7b1d827-1300-4f41-ab1d-fa094f5e984b",
   "metadata": {},
   "outputs": [],
   "source": [
    "df_experiment.to_csv('df_experiment.csv', index=False)"
   ]
  },
  {
   "cell_type": "code",
   "execution_count": 58,
   "id": "0f82a959-9302-4140-8af6-1a43ee2bc66a",
   "metadata": {},
   "outputs": [],
   "source": [
    "df_web_data.to_csv('df_web_data.csv', index=False)"
   ]
  }
 ],
 "metadata": {
  "kernelspec": {
   "display_name": "Python 3 (ipykernel)",
   "language": "python",
   "name": "python3"
  },
  "language_info": {
   "codemirror_mode": {
    "name": "ipython",
    "version": 3
   },
   "file_extension": ".py",
   "mimetype": "text/x-python",
   "name": "python",
   "nbconvert_exporter": "python",
   "pygments_lexer": "ipython3",
   "version": "3.12.3"
  }
 },
 "nbformat": 4,
 "nbformat_minor": 5
}
