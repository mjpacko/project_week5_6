{
 "cells": [
  {
   "cell_type": "code",
   "execution_count": 3,
   "id": "368c9907-d47d-4591-bfb0-55d35168cd78",
   "metadata": {},
   "outputs": [],
   "source": [
    "import pandas as pd\n",
    "import os\n",
    "import glob\n",
    "import numpy as np\n",
    "from matplotlib import pyplot as plt\n",
    "import seaborn as sns"
   ]
  },
  {
   "cell_type": "code",
   "execution_count": 11,
   "id": "c29c334f-0c1e-402c-ac8d-68c139228687",
   "metadata": {},
   "outputs": [],
   "source": [
    "df_client = pd.read_csv(r'C:\\Users\\faval\\Desktop\\Ironhack\\DataAnalytics\\week5\\project_week5_6\\data_files\\raw\\df_final_web_data_pt_2.csv')\n",
    "df_experiment = pd.read_csv(r'C:\\Users\\faval\\Desktop\\Ironhack\\DataAnalytics\\week5\\project_week5_6\\data_files\\raw\\df_final_experiment_clients.csv')\n",
    "df_footprint_1 = pd.read_csv(r'C:\\Users\\faval\\Desktop\\Ironhack\\DataAnalytics\\week5\\project_week5_6\\data_files\\raw\\df_final_web_data_pt_1.csv')\n",
    "df_footprint_2 = pd.read_csv(r'C:\\Users\\faval\\Desktop\\Ironhack\\DataAnalytics\\week5\\project_week5_6\\data_files\\raw\\df_final_web_data_pt_2.csv')"
   ]
  },
  {
   "cell_type": "code",
   "execution_count": 24,
   "id": "b9d29a1d-70b1-4acf-b9fa-982fa3e36595",
   "metadata": {},
   "outputs": [
    {
     "data": {
      "text/plain": [
       "(70609, 9)"
      ]
     },
     "execution_count": 24,
     "metadata": {},
     "output_type": "execute_result"
    }
   ],
   "source": [
    "df_client.shape"
   ]
  }
 ],
 "metadata": {
  "kernelspec": {
   "display_name": "Python 3 (ipykernel)",
   "language": "python",
   "name": "python3"
  },
  "language_info": {
   "codemirror_mode": {
    "name": "ipython",
    "version": 3
   },
   "file_extension": ".py",
   "mimetype": "text/x-python",
   "name": "python",
   "nbconvert_exporter": "python",
   "pygments_lexer": "ipython3",
   "version": "3.12.3"
  }
 },
 "nbformat": 4,
 "nbformat_minor": 5
}
