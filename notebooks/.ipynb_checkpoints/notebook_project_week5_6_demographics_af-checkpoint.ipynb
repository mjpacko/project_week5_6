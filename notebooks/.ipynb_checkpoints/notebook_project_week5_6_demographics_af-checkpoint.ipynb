{
 "cells": [
  {
   "cell_type": "code",
   "execution_count": null,
   "id": "0b9f30fe-0153-4339-86c4-4321004b7af4",
   "metadata": {},
   "outputs": [],
   "source": [
    "import pandas as pd\n",
    "import os\n",
    "import glob\n",
    "import numpy as np\n",
    "from matplotlib import pyplot as plt\n",
    "import seaborn as sns\n",
    "from scipy.stats import skew, kurtosis\n",
    "from scipy.stats import mannwhitneyu\n",
    "from scipy.stats import ttest_ind"
   ]
  },
  {
   "cell_type": "code",
   "execution_count": null,
   "id": "b1b5a47d-7baa-40e8-9348-bda9c47f1790",
   "metadata": {},
   "outputs": [],
   "source": [
    "df_client_demo = pd.read_csv(\"../data_files/clean/df_client_demo.csv\")\n",
    "duration_visit_control = pd.read_csv(\"../data_files/clean/duration_visit_control.csv\")\n",
    "duration_visit_test = pd.read_csv(\"../data_files/clean/duration_visit_test.csv\")\n",
    "web_data_control_completed = pd.read_csv(\"../data_files/clean/web_data_control_completed.csv\")\n",
    "web_data_test_completed = pd.read_csv(\"../data_files/clean/web_data_test_completed.csv\")"
   ]
  },
  {
   "cell_type": "markdown",
   "id": "7ee48eb7-4d92-46f0-b5ef-25e840700ee2",
   "metadata": {},
   "source": [
    "**AGE VS TIME ELAPSED**"
   ]
  },
  {
   "cell_type": "code",
   "execution_count": null,
   "id": "93a2c5a3-0d17-4065-adf1-1fe20c7d8339",
   "metadata": {},
   "outputs": [],
   "source": [
    "# Classify 'client_age' into categories\n",
    "age_bins = [0, 31, 59, float('inf')]\n",
    "age_labels = ['young', 'adult', 'senior']\n",
    "df_client_demo['age_category'] = pd.cut(df_client_demo['client_age'], bins=age_bins, labels=age_labels, right=True)"
   ]
  },
  {
   "cell_type": "code",
   "execution_count": null,
   "id": "1a76b9db-ff53-4cae-888a-4b879c4152a6",
   "metadata": {},
   "outputs": [],
   "source": [
    "# Keep unique values for 'visit_id'\n",
    "unique_visits_control = web_data_control_completed[['visit_id', 'client_id']].drop_duplicates('visit_id')\n",
    "merged_duration_visit_control = duration_visit_control.merge(unique_visits_control, on='visit_id', how='left')\n",
    "unique_visits_test = web_data_test_completed[['visit_id', 'client_id']].drop_duplicates('visit_id')\n",
    "merged_duration_visit_test = duration_visit_test.merge(unique_visits_test, on='visit_id', how='left')"
   ]
  },
  {
   "cell_type": "code",
   "execution_count": null,
   "id": "c5adcace-98f2-4016-a374-655ee1ce57a2",
   "metadata": {},
   "outputs": [],
   "source": [
    "# Merge 'age_category' from df_client_demo into merged_duration_visit_control and test using 'client_id'\n",
    "merged_duration_visit_control = merged_duration_visit_control.merge(df_client_demo[['client_id',\"client_age\",'age_category']], on='client_id', how='left')\n",
    "merged_duration_visit_test = merged_duration_visit_test.merge(df_client_demo[['client_id',\"client_age\", 'age_category']], on='client_id', how='left')"
   ]
  },
  {
   "cell_type": "code",
   "execution_count": null,
   "id": "5d8c1374-d3f9-4a79-a784-58f9c64c3dfe",
   "metadata": {},
   "outputs": [],
   "source": [
    "# Drop null values\n",
    "merged_duration_visit_control = merged_duration_visit_control.dropna(subset=['age_category'])\n",
    "merged_duration_visit_test = merged_duration_visit_test.dropna(subset=['age_category'])"
   ]
  },
  {
   "cell_type": "code",
   "execution_count": null,
   "id": "28e2d140-34f5-40ba-8375-10f3b6d448a9",
   "metadata": {},
   "outputs": [],
   "source": [
    "# Calculate median by 'age_category'\n",
    "median_age_category_control = merged_duration_visit_control.groupby('age_category',observed=True)['time_elapsed'].median()\n",
    "median_age_category_control"
   ]
  },
  {
   "cell_type": "code",
   "execution_count": null,
   "id": "f7399b8f-4e88-4530-8978-905f08ecf644",
   "metadata": {},
   "outputs": [],
   "source": [
    "median_age_category_test = merged_duration_visit_test.groupby('age_category',observed=True)['time_elapsed'].median()\n",
    "median_age_category_test"
   ]
  },
  {
   "cell_type": "markdown",
   "id": "8ed0bb71-a07b-4227-86a4-d232a47025b1",
   "metadata": {},
   "source": [
    "**TENURE VS TIME ELAPSED - DONT USE THIS DATA NO SIGNIFICANT**"
   ]
  },
  {
   "cell_type": "code",
   "execution_count": null,
   "id": "ce1a6f16-cc11-4ef3-9b8d-09e9208fe4d7",
   "metadata": {},
   "outputs": [],
   "source": [
    "# Classify 'client_tenure_month' into categories\n",
    "tenure_bins = [0, 59,float('inf')]\n",
    "tenure_labels = ['new', 'old']\n",
    "df_client_demo['tenure_category'] = pd.cut(df_client_demo['client_tenure_month'], bins=tenure_bins, labels=tenure_labels, right=True)"
   ]
  },
  {
   "cell_type": "code",
   "execution_count": null,
   "id": "bcde959d-c495-4972-8646-55ba6db10009",
   "metadata": {},
   "outputs": [],
   "source": [
    "# Merge 'tenure_category' from df_client_demo into merged_duration_visit_control and test using 'client_id'\n",
    "merged_duration_visit_control = merged_duration_visit_control.merge(df_client_demo[['client_id', 'tenure_category']], on='client_id', how='left')\n",
    "merged_duration_visit_test = merged_duration_visit_test.merge(df_client_demo[['client_id', 'tenure_category']], on='client_id', how='left')"
   ]
  },
  {
   "cell_type": "code",
   "execution_count": null,
   "id": "a94c7b36-af5a-447e-92bc-163d396e83d1",
   "metadata": {},
   "outputs": [],
   "source": [
    "# Calculate median by 'age_category'\n",
    "median_tenure_category_control = merged_duration_visit_control.groupby('tenure_category',observed=True)['time_elapsed'].median()\n",
    "median_tenure_category_control"
   ]
  },
  {
   "cell_type": "code",
   "execution_count": null,
   "id": "25141840-4cba-4ed4-a21f-321e2d0c7178",
   "metadata": {},
   "outputs": [],
   "source": [
    "median_age_category_test = merged_duration_visit_test.groupby('tenure_category',observed=True)['time_elapsed'].median()\n",
    "median_age_category_test"
   ]
  },
  {
   "cell_type": "code",
   "execution_count": null,
   "id": "c1288529-fcca-4d26-ac90-82bad79d807a",
   "metadata": {},
   "outputs": [],
   "source": [
    "merged_duration_visit_control"
   ]
  },
  {
   "cell_type": "code",
   "execution_count": null,
   "id": "59a0ad78-735b-4f03-bf02-33563f928f40",
   "metadata": {},
   "outputs": [],
   "source": [
    "merged_duration_visit_control.to_csv('merged_duration_visit_control.csv', index=False)\n",
    "merged_duration_visit_test.to_csv('merged_duration_visit_test.csv', index=False)"
   ]
  },
  {
   "cell_type": "code",
   "execution_count": null,
   "id": "5e9e25c8-938f-46d8-9b83-a297bec56a75",
   "metadata": {},
   "outputs": [],
   "source": []
  }
 ],
 "metadata": {
  "kernelspec": {
   "display_name": "Python 3 (ipykernel)",
   "language": "python",
   "name": "python3"
  },
  "language_info": {
   "codemirror_mode": {
    "name": "ipython",
    "version": 3
   },
   "file_extension": ".py",
   "mimetype": "text/x-python",
   "name": "python",
   "nbconvert_exporter": "python",
   "pygments_lexer": "ipython3",
   "version": "3.12.3"
  }
 },
 "nbformat": 4,
 "nbformat_minor": 5
}
