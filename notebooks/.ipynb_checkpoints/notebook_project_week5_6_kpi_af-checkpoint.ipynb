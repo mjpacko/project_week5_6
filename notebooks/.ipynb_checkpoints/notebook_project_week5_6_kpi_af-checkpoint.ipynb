{
 "cells": [
  {
   "cell_type": "code",
   "execution_count": 49,
   "id": "368c9907-d47d-4591-bfb0-55d35168cd78",
   "metadata": {},
   "outputs": [],
   "source": [
    "import pandas as pd\n",
    "import os\n",
    "import glob\n",
    "import numpy as np\n",
    "from matplotlib import pyplot as plt\n",
    "import seaborn as sns\n",
    "from scipy.stats import skew, kurtosis\n",
    "from scipy.stats import mannwhitneyu\n",
    "from scipy.stats import ttest_ind"
   ]
  },
  {
   "cell_type": "code",
   "execution_count": 51,
   "id": "c29c334f-0c1e-402c-ac8d-68c139228687",
   "metadata": {},
   "outputs": [],
   "source": [
    "web_data_filtered_control = pd.read_csv(\"../data_files/clean/web_data_filtered_control.csv\")\n",
    "web_data_filtered_test = pd.read_csv(\"../data_files/clean/web_data_filtered_test.csv\")"
   ]
  },
  {
   "cell_type": "code",
   "execution_count": 52,
   "id": "70ea2849-a73a-48fc-9fee-d9fa12133ab4",
   "metadata": {},
   "outputs": [
    {
     "name": "stderr",
     "output_type": "stream",
     "text": [
      "C:\\Users\\faval\\AppData\\Local\\Temp\\ipykernel_20828\\3583285712.py:9: DeprecationWarning: DataFrameGroupBy.apply operated on the grouping columns. This behavior is deprecated, and in a future version of pandas the grouping columns will be excluded from the operation. Either pass `include_groups=False` to exclude the groupings or explicitly select the grouping columns after groupby to silence this warning.\n",
      "  web_data_filtered_control = web_data_filtered_control.groupby('visit_id', group_keys=False, as_index=False).apply(lambda x: keep_last_confirm(x))\n",
      "C:\\Users\\faval\\AppData\\Local\\Temp\\ipykernel_20828\\3583285712.py:10: DeprecationWarning: DataFrameGroupBy.apply operated on the grouping columns. This behavior is deprecated, and in a future version of pandas the grouping columns will be excluded from the operation. Either pass `include_groups=False` to exclude the groupings or explicitly select the grouping columns after groupby to silence this warning.\n",
      "  web_data_filtered_test = web_data_filtered_test.groupby('visit_id', group_keys=False, as_index=False).apply(lambda x: keep_last_confirm(x))\n"
     ]
    }
   ],
   "source": [
    "# Drop repeated 'confirm' steps, keeping only the last occurrence.\n",
    "def keep_last_confirm(group):\n",
    "    confirms = group.loc[group['process_step'] == 'confirm']\n",
    "    if len(confirms) > 1:\n",
    "        last_confirm = confirms.sort_values('date_time').iloc[-1:]\n",
    "        return pd.concat([group.loc[group['process_step'] != 'confirm'], last_confirm])\n",
    "    return group\n",
    "\n",
    "web_data_filtered_control = web_data_filtered_control.groupby('visit_id', group_keys=False, as_index=False).apply(lambda x: keep_last_confirm(x))\n",
    "web_data_filtered_test = web_data_filtered_test.groupby('visit_id', group_keys=False, as_index=False).apply(lambda x: keep_last_confirm(x))"
   ]
  },
  {
   "cell_type": "code",
   "execution_count": 54,
   "id": "a133e06c-10a0-4edf-9b2e-0b146d12efb2",
   "metadata": {},
   "outputs": [
    {
     "name": "stderr",
     "output_type": "stream",
     "text": [
      "C:\\Users\\faval\\AppData\\Local\\Temp\\ipykernel_20828\\3811871132.py:9: DeprecationWarning: DataFrameGroupBy.apply operated on the grouping columns. This behavior is deprecated, and in a future version of pandas the grouping columns will be excluded from the operation. Either pass `include_groups=False` to exclude the groupings or explicitly select the grouping columns after groupby to silence this warning.\n",
      "  web_data_filtered_control = web_data_filtered_control.groupby('visit_id', group_keys=False).apply(keep_last_start)\n",
      "C:\\Users\\faval\\AppData\\Local\\Temp\\ipykernel_20828\\3811871132.py:10: DeprecationWarning: DataFrameGroupBy.apply operated on the grouping columns. This behavior is deprecated, and in a future version of pandas the grouping columns will be excluded from the operation. Either pass `include_groups=False` to exclude the groupings or explicitly select the grouping columns after groupby to silence this warning.\n",
      "  web_data_filtered_test = web_data_filtered_test.groupby('visit_id', group_keys=False).apply(keep_last_start)\n"
     ]
    }
   ],
   "source": [
    "# Drop repeated 'start' steps, keeping only the last occurrence.\n",
    "def keep_last_start(group):\n",
    "    starts = group.loc[group['process_step'] == 'start']\n",
    "    if len(starts) > 1:\n",
    "        last_start = starts.sort_values('date_time').iloc[-1:]\n",
    "        return pd.concat([group.loc[group['process_step'] != 'start'], last_start])\n",
    "    return group\n",
    "\n",
    "web_data_filtered_control = web_data_filtered_control.groupby('visit_id', group_keys=False).apply(keep_last_start)\n",
    "web_data_filtered_test = web_data_filtered_test.groupby('visit_id', group_keys=False).apply(keep_last_start)"
   ]
  },
  {
   "cell_type": "code",
   "execution_count": 55,
   "id": "9d7a7915-0253-46bf-9970-cf6814ca40ed",
   "metadata": {},
   "outputs": [
    {
     "name": "stderr",
     "output_type": "stream",
     "text": [
      "C:\\Users\\faval\\AppData\\Local\\Temp\\ipykernel_20828\\3182510411.py:8: DeprecationWarning: DataFrameGroupBy.apply operated on the grouping columns. This behavior is deprecated, and in a future version of pandas the grouping columns will be excluded from the operation. Either pass `include_groups=False` to exclude the groupings or explicitly select the grouping columns after groupby to silence this warning.\n",
      "  web_data_control_completed = web_data_filtered_control.groupby('visit_id', group_keys=False).apply(filter_groups_with_confirm)\n",
      "C:\\Users\\faval\\AppData\\Local\\Temp\\ipykernel_20828\\3182510411.py:9: DeprecationWarning: DataFrameGroupBy.apply operated on the grouping columns. This behavior is deprecated, and in a future version of pandas the grouping columns will be excluded from the operation. Either pass `include_groups=False` to exclude the groupings or explicitly select the grouping columns after groupby to silence this warning.\n",
      "  web_data_test_completed = web_data_filtered_test.groupby('visit_id', group_keys=False).apply(filter_groups_with_confirm)\n"
     ]
    }
   ],
   "source": [
    "# Check if 'confirm' is in the process_step column for the visit_id\n",
    "def filter_groups_with_confirm(group):\n",
    "    if 'confirm' in group['process_step'].values:\n",
    "        return group\n",
    "    else:\n",
    "        return pd.DataFrame()\n",
    "\n",
    "web_data_control_completed = web_data_filtered_control.groupby('visit_id', group_keys=False).apply(filter_groups_with_confirm)\n",
    "web_data_test_completed = web_data_filtered_test.groupby('visit_id', group_keys=False).apply(filter_groups_with_confirm)"
   ]
  },
  {
   "cell_type": "code",
   "execution_count": 56,
   "id": "aae20908-407f-4374-85bb-961a386c9e3a",
   "metadata": {},
   "outputs": [],
   "source": [
    "# sort df by visit_id and date_time in order to check the duration\n",
    "web_data_control_completed = web_data_control_completed.sort_values(by=[\"client_id\", \"visitor_id\",'visit_id', \"date_time\"])\n",
    "web_data_test_completed = web_data_test_completed.sort_values(by=[\"client_id\", \"visitor_id\",'visit_id', \"date_time\"])"
   ]
  },
  {
   "cell_type": "code",
   "execution_count": 57,
   "id": "28b07f9b-e30d-45ca-9de0-f4b5a7beb7dc",
   "metadata": {},
   "outputs": [],
   "source": [
    "# cast date_time as type = date\n",
    "web_data_control_completed['date_time'] = pd.to_datetime(web_data_control_completed['date_time'])\n",
    "web_data_test_completed['date_time'] = pd.to_datetime(web_data_test_completed['date_time'])"
   ]
  },
  {
   "cell_type": "markdown",
   "id": "9045c18f-9827-413f-bba0-3a2f3a318655",
   "metadata": {},
   "source": [
    "**COMPLETION RATE**"
   ]
  },
  {
   "cell_type": "code",
   "execution_count": 63,
   "id": "5604799e-378f-42a7-94a3-5fab66e21e18",
   "metadata": {},
   "outputs": [],
   "source": [
    "# to calculate the completion rate we take unique clients from initial df (filtered) and compare with actually df (completed)\n",
    "unique_clients_control = web_data_control_completed['client_id'].nunique()\n",
    "unique_clients_control_total = web_data_filtered_control['client_id'].nunique()\n",
    "unique_clients_test = web_data_test_completed['client_id'].nunique()\n",
    "unique_clients_test_total = web_data_filtered_test['client_id'].nunique()"
   ]
  },
  {
   "cell_type": "code",
   "execution_count": 65,
   "id": "65d3ea9e-ea00-46a9-8c4a-24a1518c96a5",
   "metadata": {},
   "outputs": [
    {
     "data": {
      "text/plain": [
       "63.800000000000004"
      ]
     },
     "execution_count": 65,
     "metadata": {},
     "output_type": "execute_result"
    }
   ],
   "source": [
    "completition_rate_control = round(unique_clients_control/unique_clients_control_total, 4)*100\n",
    "completition_rate_control"
   ]
  },
  {
   "cell_type": "code",
   "execution_count": 67,
   "id": "53703f43-cc17-4cb5-b24a-cec214aa5ac5",
   "metadata": {},
   "outputs": [
    {
     "data": {
      "text/plain": [
       "67.13"
      ]
     },
     "execution_count": 67,
     "metadata": {},
     "output_type": "execute_result"
    }
   ],
   "source": [
    "completition_rate_test = round(unique_clients_test/unique_clients_test_total, 4)*100\n",
    "completition_rate_test"
   ]
  },
  {
   "cell_type": "markdown",
   "id": "9dd363a7-9087-41cc-af34-6e8b32a4d6ce",
   "metadata": {},
   "source": [
    "**COMPLETION LENGTH**"
   ]
  },
  {
   "cell_type": "code",
   "execution_count": 69,
   "id": "bad4dc5f-22a9-474b-8384-c17d4e9b2501",
   "metadata": {},
   "outputs": [],
   "source": [
    "# visit_id_check to check if the previous visit_id is the same or is different\n",
    "web_data_control_completed['visit_id_check'] = (web_data_control_completed['visit_id'] == web_data_control_completed['visit_id'].shift(1))\n",
    "web_data_test_completed['visit_id_check'] = (web_data_test_completed['visit_id'] == web_data_test_completed['visit_id'].shift(1))"
   ]
  },
  {
   "cell_type": "code",
   "execution_count": 71,
   "id": "21dceb4e-4f7e-490f-8674-b55a46272042",
   "metadata": {},
   "outputs": [],
   "source": [
    "# Use diff() to find the difference between consecutive datetime entries.\n",
    "web_data_control_completed['time_diff'] = web_data_control_completed['date_time'].diff()\n",
    "web_data_test_completed['time_diff'] = web_data_test_completed['date_time'].diff()"
   ]
  },
  {
   "cell_type": "code",
   "execution_count": 73,
   "id": "2af7df0a-4fd5-4f05-940f-c1c6595b90ee",
   "metadata": {},
   "outputs": [],
   "source": [
    "# time_elapsed in seconds\n",
    "web_data_control_completed['time_elapsed'] = web_data_control_completed.apply(lambda row: row['time_diff'].total_seconds() if row['visit_id_check'] else 0,axis=1)\n",
    "web_data_test_completed['time_elapsed'] = web_data_test_completed.apply(lambda row: row['time_diff'].total_seconds() if row['visit_id_check'] else 0,axis=1)"
   ]
  },
  {
   "cell_type": "code",
   "execution_count": 74,
   "id": "50d5ef1c-1c4f-4c00-852c-9e47d2e50a41",
   "metadata": {},
   "outputs": [],
   "source": [
    "#drop time diff column as it have duplicate info we dont need\n",
    "web_data_control_completed.drop(columns=['time_diff'], inplace=True)\n",
    "web_data_test_completed.drop(columns=['time_diff'], inplace=True)"
   ]
  },
  {
   "cell_type": "code",
   "execution_count": 75,
   "id": "f5e463a2-2b33-45e4-9e66-2a5ea2af86bd",
   "metadata": {},
   "outputs": [
    {
     "data": {
      "text/html": [
       "<div>\n",
       "<style scoped>\n",
       "    .dataframe tbody tr th:only-of-type {\n",
       "        vertical-align: middle;\n",
       "    }\n",
       "\n",
       "    .dataframe tbody tr th {\n",
       "        vertical-align: top;\n",
       "    }\n",
       "\n",
       "    .dataframe thead th {\n",
       "        text-align: right;\n",
       "    }\n",
       "</style>\n",
       "<table border=\"1\" class=\"dataframe\">\n",
       "  <thead>\n",
       "    <tr style=\"text-align: right;\">\n",
       "      <th></th>\n",
       "      <th>visit_id</th>\n",
       "      <th>time_elapsed</th>\n",
       "    </tr>\n",
       "  </thead>\n",
       "  <tbody>\n",
       "    <tr>\n",
       "      <th>0</th>\n",
       "      <td>10006594_66157970412_679648</td>\n",
       "      <td>5.900000</td>\n",
       "    </tr>\n",
       "    <tr>\n",
       "      <th>1</th>\n",
       "      <td>10007589_47780784567_391490</td>\n",
       "      <td>12.016667</td>\n",
       "    </tr>\n",
       "    <tr>\n",
       "      <th>2</th>\n",
       "      <td>100254180_47139859079_984581</td>\n",
       "      <td>5.683333</td>\n",
       "    </tr>\n",
       "    <tr>\n",
       "      <th>3</th>\n",
       "      <td>100309269_21684743336_936307</td>\n",
       "      <td>4.000000</td>\n",
       "    </tr>\n",
       "    <tr>\n",
       "      <th>4</th>\n",
       "      <td>100471971_3065983298_584030</td>\n",
       "      <td>2.566667</td>\n",
       "    </tr>\n",
       "    <tr>\n",
       "      <th>...</th>\n",
       "      <td>...</td>\n",
       "      <td>...</td>\n",
       "    </tr>\n",
       "    <tr>\n",
       "      <th>14897</th>\n",
       "      <td>999512351_9425260762_890767</td>\n",
       "      <td>2.683333</td>\n",
       "    </tr>\n",
       "    <tr>\n",
       "      <th>14898</th>\n",
       "      <td>999528108_94761236019_731649</td>\n",
       "      <td>3.633333</td>\n",
       "    </tr>\n",
       "    <tr>\n",
       "      <th>14899</th>\n",
       "      <td>999528902_49133507319_516085</td>\n",
       "      <td>8.550000</td>\n",
       "    </tr>\n",
       "    <tr>\n",
       "      <th>14900</th>\n",
       "      <td>999859408_41720215615_938916</td>\n",
       "      <td>4.133333</td>\n",
       "    </tr>\n",
       "    <tr>\n",
       "      <th>14901</th>\n",
       "      <td>999985675_64610694964_443659</td>\n",
       "      <td>17.500000</td>\n",
       "    </tr>\n",
       "  </tbody>\n",
       "</table>\n",
       "<p>14902 rows × 2 columns</p>\n",
       "</div>"
      ],
      "text/plain": [
       "                           visit_id  time_elapsed\n",
       "0       10006594_66157970412_679648      5.900000\n",
       "1       10007589_47780784567_391490     12.016667\n",
       "2      100254180_47139859079_984581      5.683333\n",
       "3      100309269_21684743336_936307      4.000000\n",
       "4       100471971_3065983298_584030      2.566667\n",
       "...                             ...           ...\n",
       "14897   999512351_9425260762_890767      2.683333\n",
       "14898  999528108_94761236019_731649      3.633333\n",
       "14899  999528902_49133507319_516085      8.550000\n",
       "14900  999859408_41720215615_938916      4.133333\n",
       "14901  999985675_64610694964_443659     17.500000\n",
       "\n",
       "[14902 rows x 2 columns]"
      ]
     },
     "execution_count": 75,
     "metadata": {},
     "output_type": "execute_result"
    }
   ],
   "source": [
    "# duration of whole process grouped by visit_id\n",
    "duration_visit_control = web_data_control_completed.groupby('visit_id')['time_elapsed'].sum()/60\n",
    "duration_visit_control = duration_visit_control.reset_index()\n",
    "duration_visit_control.columns = ['visit_id', 'time_elapsed']\n",
    "duration_visit_test = web_data_test_completed.groupby('visit_id')['time_elapsed'].sum()/60\n",
    "duration_visit_test = duration_visit_test.reset_index()\n",
    "duration_visit_test.columns = ['visit_id', 'time_elapsed']\n",
    "duration_visit_control"
   ]
  },
  {
   "cell_type": "code",
   "execution_count": 76,
   "id": "0c6619f5-86c5-4ce4-bc0a-ccc2cd186223",
   "metadata": {},
   "outputs": [],
   "source": [
    "# statistics calculation\n",
    "mean_time_control = duration_visit_control['time_elapsed'].mean()\n",
    "median_time_control = duration_visit_control['time_elapsed'].median()\n",
    "std_time_control = duration_visit_control['time_elapsed'].std()\n",
    "min_time_control = duration_visit_control['time_elapsed'].min()\n",
    "max_time_control = duration_visit_control['time_elapsed'].max()\n",
    "mean_time_test = duration_visit_test['time_elapsed'].mean()\n",
    "median_time_test = duration_visit_test['time_elapsed'].median()\n",
    "std_time_test = duration_visit_test['time_elapsed'].std()\n",
    "min_time_test = duration_visit_test['time_elapsed'].min()\n",
    "max_time_test = duration_visit_test['time_elapsed'].max()"
   ]
  },
  {
   "cell_type": "code",
   "execution_count": 81,
   "id": "36028ff3-ae2c-4b5c-9974-c77bd7350137",
   "metadata": {},
   "outputs": [
    {
     "data": {
      "text/html": [
       "<div>\n",
       "<style scoped>\n",
       "    .dataframe tbody tr th:only-of-type {\n",
       "        vertical-align: middle;\n",
       "    }\n",
       "\n",
       "    .dataframe tbody tr th {\n",
       "        vertical-align: top;\n",
       "    }\n",
       "\n",
       "    .dataframe thead th {\n",
       "        text-align: right;\n",
       "    }\n",
       "</style>\n",
       "<table border=\"1\" class=\"dataframe\">\n",
       "  <thead>\n",
       "    <tr style=\"text-align: right;\">\n",
       "      <th></th>\n",
       "      <th>Control</th>\n",
       "      <th>Test</th>\n",
       "    </tr>\n",
       "  </thead>\n",
       "  <tbody>\n",
       "    <tr>\n",
       "      <th>Mean</th>\n",
       "      <td>6.387343</td>\n",
       "      <td>6.567892</td>\n",
       "    </tr>\n",
       "    <tr>\n",
       "      <th>Median</th>\n",
       "      <td>4.500000</td>\n",
       "      <td>4.033333</td>\n",
       "    </tr>\n",
       "    <tr>\n",
       "      <th>Standard Deviation</th>\n",
       "      <td>6.902998</td>\n",
       "      <td>9.097565</td>\n",
       "    </tr>\n",
       "    <tr>\n",
       "      <th>Minimum</th>\n",
       "      <td>0.583333</td>\n",
       "      <td>0.533333</td>\n",
       "    </tr>\n",
       "    <tr>\n",
       "      <th>Maximum</th>\n",
       "      <td>284.266667</td>\n",
       "      <td>300.183333</td>\n",
       "    </tr>\n",
       "  </tbody>\n",
       "</table>\n",
       "</div>"
      ],
      "text/plain": [
       "                       Control        Test\n",
       "Mean                  6.387343    6.567892\n",
       "Median                4.500000    4.033333\n",
       "Standard Deviation    6.902998    9.097565\n",
       "Minimum               0.583333    0.533333\n",
       "Maximum             284.266667  300.183333"
      ]
     },
     "execution_count": 81,
     "metadata": {},
     "output_type": "execute_result"
    }
   ],
   "source": [
    "# statistics df\n",
    "statistics_df = pd.DataFrame({\n",
    "    'Control': [mean_time_control, median_time_control, std_time_control, min_time_control, max_time_control],\n",
    "    'Test': [mean_time_test, median_time_test, std_time_test, min_time_test, max_time_test]}, index=['Mean', 'Median', 'Standard Deviation', 'Minimum', 'Maximum'])\n",
    "statistics_df"
   ]
  },
  {
   "cell_type": "code",
   "execution_count": 83,
   "id": "f0ed6793-d6e0-4dcd-ab37-2e4b015791c2",
   "metadata": {},
   "outputs": [
    {
     "data": {
      "image/png": "[encoded data removed]",
      "text/plain": [
       "<Figure size 1000x600 with 1 Axes>"
      ]
     },
     "metadata": {},
     "output_type": "display_data"
    }
   ],
   "source": [
    "#BOX PLOT\n",
    "data = pd.DataFrame({\n",
    "    'Control': duration_visit_control['time_elapsed'],\n",
    "    'Test': duration_visit_test['time_elapsed']})\n",
    "melted_data = data.melt(var_name='Group', value_name='Duration')\n",
    "plt.figure(figsize=(10, 6))\n",
    "sns.boxplot(x='Group', y='Duration', data=melted_data, hue='Group', dodge=False, palette='pastel')\n",
    "plt.title('Durations of Completion by Group')\n",
    "plt.ylabel('Duration (minutes)')\n",
    "plt.ylim(melted_data['Duration'].quantile(0.05), melted_data['Duration'].quantile(0.95))\n",
    "plt.show()"
   ]
  },
  {
   "cell_type": "code",
   "execution_count": null,
   "id": "0254f0a9-add4-4977-91b3-1259a95b508d",
   "metadata": {},
   "outputs": [],
   "source": [
    "# HISTOGRAMS - DISTRIBUTION\n",
    "filtered_control = duration_visit_control[duration_visit_control['time_elapsed'] < 30]['time_elapsed']\n",
    "filtered_test = duration_visit_test[duration_visit_test['time_elapsed'] < 30]['time_elapsed']\n",
    "fig, axs = plt.subplots(1, 2, figsize=(12, 5), sharey=True)\n",
    "axs[0].hist(filtered_control, bins=20, edgecolor='black', color='lightpink')\n",
    "axs[0].set_title('Control Group')\n",
    "axs[0].set_xlabel('Duration (minutes)')\n",
    "axs[0].set_ylabel('Frequency')\n",
    "axs[1].hist(filtered_test, bins=20, edgecolor='black', color='lightblue')\n",
    "axs[1].set_title('Test Group')\n",
    "axs[1].set_xlabel('Duration (minutes)')\n",
    "plt.suptitle('Comparison of Visit Durations - Less than 30 minutes')\n",
    "plt.tight_layout()\n",
    "plt.show()"
   ]
  },
  {
   "cell_type": "markdown",
   "id": "df730af0-fbbe-4766-a3d5-237b51e32907",
   "metadata": {},
   "source": [
    "**STEPS LENGTH FOR COMPLETED VISITS**"
   ]
  },
  {
   "cell_type": "code",
   "execution_count": 85,
   "id": "92ebc3ef-3196-42ab-bbff-8cb2d613ed0d",
   "metadata": {},
   "outputs": [],
   "source": [
    "# Create 'time_elapsed_steps' column by shifting 'time_elapsed' up by one row to have the seconds in each step\n",
    "web_data_control_completed['time_elapsed_steps'] = web_data_control_completed['time_elapsed'].shift(-1, fill_value=0)\n",
    "web_data_test_completed['time_elapsed_steps'] = web_data_test_completed['time_elapsed'].shift(-1, fill_value=0)"
   ]
  },
  {
   "cell_type": "code",
   "execution_count": 87,
   "id": "81428e95-d133-4aa9-b07b-c1c935a8695a",
   "metadata": {},
   "outputs": [
    {
     "data": {
      "text/html": [
       "<div>\n",
       "<style scoped>\n",
       "    .dataframe tbody tr th:only-of-type {\n",
       "        vertical-align: middle;\n",
       "    }\n",
       "\n",
       "    .dataframe tbody tr th {\n",
       "        vertical-align: top;\n",
       "    }\n",
       "\n",
       "    .dataframe thead th {\n",
       "        text-align: right;\n",
       "    }\n",
       "</style>\n",
       "<table border=\"1\" class=\"dataframe\">\n",
       "  <thead>\n",
       "    <tr style=\"text-align: right;\">\n",
       "      <th></th>\n",
       "      <th>client_id</th>\n",
       "      <th>visitor_id</th>\n",
       "      <th>visit_id</th>\n",
       "      <th>process_step</th>\n",
       "      <th>date_time</th>\n",
       "      <th>variation</th>\n",
       "      <th>visit_id_check</th>\n",
       "      <th>time_elapsed</th>\n",
       "      <th>time_elapsed_steps</th>\n",
       "    </tr>\n",
       "  </thead>\n",
       "  <tbody>\n",
       "    <tr>\n",
       "      <th>15</th>\n",
       "      <td>1195</td>\n",
       "      <td>766842522_69992551638</td>\n",
       "      <td>393817425_39015278493_996341</td>\n",
       "      <td>start</td>\n",
       "      <td>2017-04-05 20:15:26</td>\n",
       "      <td>Control</td>\n",
       "      <td>False</td>\n",
       "      <td>0.0</td>\n",
       "      <td>33.0</td>\n",
       "    </tr>\n",
       "    <tr>\n",
       "      <th>16</th>\n",
       "      <td>1195</td>\n",
       "      <td>766842522_69992551638</td>\n",
       "      <td>393817425_39015278493_996341</td>\n",
       "      <td>step_1</td>\n",
       "      <td>2017-04-05 20:15:59</td>\n",
       "      <td>Control</td>\n",
       "      <td>True</td>\n",
       "      <td>33.0</td>\n",
       "      <td>98.0</td>\n",
       "    </tr>\n",
       "    <tr>\n",
       "      <th>17</th>\n",
       "      <td>1195</td>\n",
       "      <td>766842522_69992551638</td>\n",
       "      <td>393817425_39015278493_996341</td>\n",
       "      <td>step_2</td>\n",
       "      <td>2017-04-05 20:17:37</td>\n",
       "      <td>Control</td>\n",
       "      <td>True</td>\n",
       "      <td>98.0</td>\n",
       "      <td>31.0</td>\n",
       "    </tr>\n",
       "    <tr>\n",
       "      <th>18</th>\n",
       "      <td>1195</td>\n",
       "      <td>766842522_69992551638</td>\n",
       "      <td>393817425_39015278493_996341</td>\n",
       "      <td>step_3</td>\n",
       "      <td>2017-04-05 20:18:08</td>\n",
       "      <td>Control</td>\n",
       "      <td>True</td>\n",
       "      <td>31.0</td>\n",
       "      <td>83.0</td>\n",
       "    </tr>\n",
       "    <tr>\n",
       "      <th>19</th>\n",
       "      <td>1195</td>\n",
       "      <td>766842522_69992551638</td>\n",
       "      <td>393817425_39015278493_996341</td>\n",
       "      <td>confirm</td>\n",
       "      <td>2017-04-05 20:19:31</td>\n",
       "      <td>Control</td>\n",
       "      <td>True</td>\n",
       "      <td>83.0</td>\n",
       "      <td>0.0</td>\n",
       "    </tr>\n",
       "  </tbody>\n",
       "</table>\n",
       "</div>"
      ],
      "text/plain": [
       "    client_id             visitor_id                      visit_id  \\\n",
       "15       1195  766842522_69992551638  393817425_39015278493_996341   \n",
       "16       1195  766842522_69992551638  393817425_39015278493_996341   \n",
       "17       1195  766842522_69992551638  393817425_39015278493_996341   \n",
       "18       1195  766842522_69992551638  393817425_39015278493_996341   \n",
       "19       1195  766842522_69992551638  393817425_39015278493_996341   \n",
       "\n",
       "   process_step           date_time variation  visit_id_check  time_elapsed  \\\n",
       "15        start 2017-04-05 20:15:26   Control           False           0.0   \n",
       "16       step_1 2017-04-05 20:15:59   Control            True          33.0   \n",
       "17       step_2 2017-04-05 20:17:37   Control            True          98.0   \n",
       "18       step_3 2017-04-05 20:18:08   Control            True          31.0   \n",
       "19      confirm 2017-04-05 20:19:31   Control            True          83.0   \n",
       "\n",
       "    time_elapsed_steps  \n",
       "15                33.0  \n",
       "16                98.0  \n",
       "17                31.0  \n",
       "18                83.0  \n",
       "19                 0.0  "
      ]
     },
     "execution_count": 87,
     "metadata": {},
     "output_type": "execute_result"
    }
   ],
   "source": [
    "web_data_control_completed.head()"
   ]
  },
  {
   "cell_type": "code",
   "execution_count": 89,
   "id": "2e253808-2a12-4bc3-8747-a267dac355a3",
   "metadata": {},
   "outputs": [
    {
     "data": {
      "text/plain": [
       "process_step\n",
       "confirm      8.447054\n",
       "start       38.936519\n",
       "step_1      45.993871\n",
       "step_2      88.635605\n",
       "step_3     136.142522\n",
       "dtype: float64"
      ]
     },
     "execution_count": 89,
     "metadata": {},
     "output_type": "execute_result"
    }
   ],
   "source": [
    "# Calculate mean duration of each step for differents groups\n",
    "sum_time_elapsed_by_step_control = web_data_control_completed.groupby('process_step')['time_elapsed_steps'].sum()\n",
    "process_step_counts_control = web_data_control_completed['process_step'].value_counts()\n",
    "mean_length_step_control = sum_time_elapsed_by_step_control / process_step_counts_control\n",
    "mean_length_step_control"
   ]
  },
  {
   "cell_type": "code",
   "execution_count": 91,
   "id": "99928f15-6c8e-470c-8d1f-d8803ae45653",
   "metadata": {},
   "outputs": [
    {
     "data": {
      "text/plain": [
       "process_step\n",
       "confirm      2.857039\n",
       "start       31.511867\n",
       "step_1      61.999449\n",
       "step_2      89.973550\n",
       "step_3     152.439303\n",
       "dtype: float64"
      ]
     },
     "execution_count": 91,
     "metadata": {},
     "output_type": "execute_result"
    }
   ],
   "source": [
    "# Calculate mean duration of each step for differents groups\n",
    "sum_time_elapsed_by_step_test = web_data_test_completed.groupby('process_step')['time_elapsed_steps'].sum()\n",
    "process_step_counts_test = web_data_test_completed['process_step'].value_counts()\n",
    "mean_length_step_test = sum_time_elapsed_by_step_test / process_step_counts_test\n",
    "mean_length_step_test"
   ]
  },
  {
   "cell_type": "code",
   "execution_count": 93,
   "id": "cf9b3fd8-f6ba-40bd-817a-1cda73abb014",
   "metadata": {},
   "outputs": [
    {
     "data": {
      "image/png": "[encoded data removed]",
      "text/plain": [
       "<Figure size 1200x600 with 2 Axes>"
      ]
     },
     "metadata": {},
     "output_type": "display_data"
    }
   ],
   "source": [
    "# Exclude the \"confirm\" process step as shouldnt have values different form 0\n",
    "mean_length_step_control_filtered = mean_length_step_control.drop('confirm', errors='ignore')\n",
    "mean_length_step_test_filtered = mean_length_step_test.drop('confirm', errors='ignore')\n",
    "pastel_colors = ['#FFB3BA', '#FFDFBA', '#FFFFBA', '#B9FBC0', '#BAE1FF']\n",
    "# Set up the figure with two subplots side by side\n",
    "fig, axes = plt.subplots(1, 2, figsize=(12, 6))\n",
    "# Plot the first pie chart for control\n",
    "axes[0].pie(mean_length_step_control_filtered, labels=mean_length_step_control_filtered.index, autopct='%1.1f%%', startangle=140, colors=pastel_colors)\n",
    "axes[0].set_title('Mean Duration of Each Process Step: Control')\n",
    "# Plot the second pie chart for test\n",
    "axes[1].pie(mean_length_step_test_filtered, labels=mean_length_step_test_filtered.index, autopct='%1.1f%%', startangle=140, colors=pastel_colors)\n",
    "axes[1].set_title('Mean Duration of Each Process Step: Test')\n",
    "# Adjust layout to make space for titles and labels\n",
    "plt.tight_layout()\n",
    "# Display the plots\n",
    "plt.show()"
   ]
  },
  {
   "cell_type": "markdown",
   "id": "5950e738-47bc-462a-8249-7d5c8bc93401",
   "metadata": {},
   "source": [
    "**HYPOTHESIS**"
   ]
  },
  {
   "cell_type": "markdown",
   "id": "43b3382e-19af-4702-bc63-5ecb7d8e3e31",
   "metadata": {},
   "source": [
    "**Hypothesis Setup:** median"
   ]
  },
  {
   "cell_type": "markdown",
   "id": "1b8d42f1-96ef-4950-b49f-b3cb6b7fe794",
   "metadata": {},
   "source": [
    "Null Hypothesis (H0): The median time for the Test group is equal to or greater than the median time for the Control group. Formally: Median_Time_Test ≥ Median_Time_Control.\n",
    "\n",
    "Alternative Hypothesis (H1): The median time for the Test group is less than the median time for the Control group. Formally: Median_Time_Test < Median_Time_Control."
   ]
  },
  {
   "cell_type": "code",
   "execution_count": 95,
   "id": "10f20683-ae85-41f0-bb64-ee01c501e540",
   "metadata": {},
   "outputs": [
    {
     "name": "stdout",
     "output_type": "stream",
     "text": [
      "Statistics=123874096.500, p=0.000\n",
      "Reject the null hypothesis - the median time for Test is significantly less.\n"
     ]
    }
   ],
   "source": [
    "# Perform the Mann-Whitney U test with a one-sided hypothesis ('less')\n",
    "stat, p_value = mannwhitneyu(duration_visit_test[\"time_elapsed\"], duration_visit_control[\"time_elapsed\"], alternative='less')\n",
    "print('Statistics=%.3f, p=%.3f' % (stat, p_value))\n",
    "# Interpretation\n",
    "alpha = 0.05\n",
    "if p_value < alpha:\n",
    "    print('Reject the null hypothesis - the median time for Test is significantly less.')\n",
    "else:\n",
    "    print('Fail to reject the null hypothesis - no significant evidence that the median time for Test is less.')"
   ]
  },
  {
   "cell_type": "markdown",
   "id": "9e750b55-7e7b-4f5a-b93c-7ad09807f8ec",
   "metadata": {},
   "source": [
    "**Hypothesis Setup:** mean"
   ]
  },
  {
   "cell_type": "markdown",
   "id": "91d3fa93-268b-45ad-8f08-2d1911216231",
   "metadata": {},
   "source": [
    "Null Hypothesis (H0): The mean time for the Test group is equal to or greater than the mean time for the Control group. Mean_Time_Test ≥ Mean_Time_Control.\n",
    "\n",
    "Alternative Hypothesis (H1): The mean time for the Test group is less than the mean time for the Control group. Mean_Time_Test < Mean_Time_Control"
   ]
  },
  {
   "cell_type": "code",
   "execution_count": 97,
   "id": "cd993cd3-780f-499d-a56a-711cbfdad57d",
   "metadata": {},
   "outputs": [
    {
     "name": "stdout",
     "output_type": "stream",
     "text": [
      "Statistics=1.992, p=0.977\n",
      "Fail to reject the null hypothesis - no significant evidence that the mean time for Test is less.\n"
     ]
    }
   ],
   "source": [
    "# Perform the t-test with 'less' alternative hypothesis\n",
    "stat, p_value = ttest_ind(duration_visit_test[\"time_elapsed\"], duration_visit_control[\"time_elapsed\"], alternative='less')\n",
    "print('Statistics=%.3f, p=%.3f' % (stat, p_value))\n",
    "# Interpretation\n",
    "alpha = 0.05\n",
    "if p_value < alpha:\n",
    "    print('Reject the null hypothesis - the mean time for Test is significantly less.')\n",
    "else:\n",
    "    print('Fail to reject the null hypothesis - no significant evidence that the mean time for Test is less.')"
   ]
  },
  {
   "cell_type": "markdown",
   "id": "bb288758-2cbb-4798-931f-607ff9891754",
   "metadata": {},
   "source": [
    "**SAVE FILES**"
   ]
  },
  {
   "cell_type": "code",
   "execution_count": null,
   "id": "72bcbe5e-3f2f-4916-bd99-348fbc3d70fe",
   "metadata": {},
   "outputs": [],
   "source": [
    "duration_visit_control.to_csv('duration_visit_control.csv', index=False)\n",
    "duration_visit_test.to_csv('duration_visit_test.csv', index=False)\n",
    "web_data_control_completed.to_csv('web_data_control_completed.csv', index=False)\n",
    "web_data_test_completed.to_csv('web_data_test_completed.csv', index=False)"
   ]
  },
  {
   "cell_type": "code",
   "execution_count": null,
   "id": "012f8ed0-0e45-4b8b-b176-6caa7331be3a",
   "metadata": {},
   "outputs": [],
   "source": []
  }
 ],
 "metadata": {
  "kernelspec": {
   "display_name": "Python 3 (ipykernel)",
   "language": "python",
   "name": "python3"
  },
  "language_info": {
   "codemirror_mode": {
    "name": "ipython",
    "version": 3
   },
   "file_extension": ".py",
   "mimetype": "text/x-python",
   "name": "python",
   "nbconvert_exporter": "python",
   "pygments_lexer": "ipython3",
   "version": "3.12.3"
  }
 },
 "nbformat": 4,
 "nbformat_minor": 5
}
