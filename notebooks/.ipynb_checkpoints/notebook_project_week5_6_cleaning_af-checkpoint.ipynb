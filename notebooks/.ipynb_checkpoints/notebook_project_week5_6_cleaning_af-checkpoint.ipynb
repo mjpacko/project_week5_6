{
 "cells": [
  {
   "cell_type": "code",
   "execution_count": null,
   "id": "368c9907-d47d-4591-bfb0-55d35168cd78",
   "metadata": {},
   "outputs": [],
   "source": [
    "import pandas as pd\n",
    "import os\n",
    "import glob\n",
    "import numpy as np\n",
    "from matplotlib import pyplot as plt\n",
    "import seaborn as sns\n",
    "from scipy.stats import skew, kurtosis\n",
    "from scipy.stats import mannwhitneyu\n",
    "from scipy.stats import ttest_ind"
   ]
  },
  {
   "cell_type": "code",
   "execution_count": null,
   "id": "c29c334f-0c1e-402c-ac8d-68c139228687",
   "metadata": {},
   "outputs": [],
   "source": [
    "df_client_demo = pd.read_csv(\"../data_files/clean/df_client_demo.csv\")\n",
    "df_experiment = pd.read_csv(\"../data_files/clean/df_experiment.csv\")\n",
    "df_web_data = pd.read_csv(\"../data_files/clean/df_web_data.csv\")"
   ]
  },
  {
   "cell_type": "code",
   "execution_count": null,
   "id": "334215bc-841c-46ed-a07e-1577815e8e49",
   "metadata": {},
   "outputs": [],
   "source": [
    "client_tenure_month_summary = df_client_demo['client_tenure_month'].describe()\n",
    "client_tenure_month_summary"
   ]
  },
  {
   "cell_type": "code",
   "execution_count": null,
   "id": "62ae3e12-f1a6-4e88-a814-e0558c535a7e",
   "metadata": {},
   "outputs": [],
   "source": [
    "client_age_summary = df_client_demo['client_age'].describe()\n",
    "client_age_summary"
   ]
  },
  {
   "cell_type": "code",
   "execution_count": null,
   "id": "58462bf4-99db-406b-80f8-f8d8bd6046c7",
   "metadata": {},
   "outputs": [],
   "source": [
    "# Box Plot of Client Ages\n",
    "plt.figure(figsize=(9, 6))\n",
    "sns.boxplot(y=df_client_demo['client_age'], color='salmon')\n",
    "plt.title('Box Plot of Client Ages')\n",
    "plt.ylabel('Age')\n",
    "plt.show()"
   ]
  },
  {
   "cell_type": "code",
   "execution_count": null,
   "id": "ed66f8c5-905f-4733-9362-cf865407b427",
   "metadata": {},
   "outputs": [],
   "source": [
    "# Box Plot of Client Tenure Months\n",
    "plt.figure(figsize=(9, 6))\n",
    "sns.boxplot(y=df_client_demo['client_tenure_month'], color='cornflowerblue')\n",
    "plt.title('Box Plot of Client Tenure Months')\n",
    "plt.ylabel('Months')\n",
    "plt.show()"
   ]
  },
  {
   "cell_type": "code",
   "execution_count": null,
   "id": "69b58967-f71e-427c-8618-889f5e22efcd",
   "metadata": {},
   "outputs": [],
   "source": [
    "age_skewness_value = skew(df_client_demo['client_age'])\n",
    "age_skewness_value\n",
    "# This suggests that your distribution is nearly symmetrical, with no significant skew to either the left or right.\n",
    "# The data is more or less evenly distributed around the mean, closer in shape to a normal distribution."
   ]
  },
  {
   "cell_type": "code",
   "execution_count": null,
   "id": "71c6d305-622a-45ad-a455-f354c942794a",
   "metadata": {},
   "outputs": [],
   "source": [
    "age_kurtosis_value = kurtosis(df_client_demo['client_age'])\n",
    "age_kurtosis_value\n",
    "# This suggests that the distribution of your data has lighter tails and a flatter peak than a normal distribution.\n",
    "# In practical terms, this means the data produces fewer extreme values or outliers compared to a normal distribution."
   ]
  },
  {
   "cell_type": "code",
   "execution_count": null,
   "id": "bde6a34c-7a5c-47a9-a690-c515f5f6f1f5",
   "metadata": {},
   "outputs": [],
   "source": [
    "tenure_month_skewness_value = skew(df_client_demo['client_tenure_month'])\n",
    "tenure_month_skewness_value\n",
    "# The distribution has a longer tail extending towards the higher values.\n",
    "# This positive skewness suggests that there are outliers or a few high values that are pulling the mean to the right."
   ]
  },
  {
   "cell_type": "code",
   "execution_count": null,
   "id": "505a857d-4ba2-435b-9064-ab1607485574",
   "metadata": {},
   "outputs": [],
   "source": [
    "tenure_month_kurtosis_value = kurtosis(df_client_demo['client_tenure_month'])\n",
    "tenure_month_kurtosis_value\n",
    "# The distribution has slightly heavier tails and a somewhat sharper peak than a normal distribution, indicating a moderate presence of outliers.\n",
    "# The data is generally clustered around the mean more tightly than it would be in a normal distribution, with a few higher-than-usual deviations from the mean."
   ]
  },
  {
   "cell_type": "code",
   "execution_count": null,
   "id": "77b79912-d4be-423b-9986-b83430ff654e",
   "metadata": {},
   "outputs": [],
   "source": [
    "# Calculate the Pearson correlation coefficient for age vs tenure months\n",
    "correlation = df_client_demo['client_age'].corr(df_client_demo['client_tenure_month'])\n",
    "print(f\"Correlation between client_age and client_tenure_month: {correlation:.2f}\")\n",
    "# Although positive, a 0,31 coefficient reflects a no strong correlation"
   ]
  },
  {
   "cell_type": "code",
   "execution_count": null,
   "id": "148de86f-d4a9-4606-8aea-ccb95f0e99e0",
   "metadata": {},
   "outputs": [],
   "source": [
    "# Create a scatter plot to visualize the relationship\n",
    "plt.figure(figsize=(10, 6))\n",
    "sns.scatterplot(x='client_age', y='client_tenure_month', data=df_client_demo, color='blue')\n",
    "# Add a line for better visual of trend\n",
    "sns.regplot(x='client_age', y='client_tenure_month', data=df_client_demo, scatter=False, color='red', ci=None)\n",
    "# Add titles and labels\n",
    "plt.title('Scatter Plot of Client Age vs. Client Tenure Month')\n",
    "plt.xlabel('Client Age')\n",
    "plt.ylabel('Client Tenure (Months)')\n",
    "# Display the plot\n",
    "plt.show()"
   ]
  },
  {
   "cell_type": "code",
   "execution_count": null,
   "id": "598639f4-93a2-485a-a739-fc5da6809c9e",
   "metadata": {},
   "outputs": [],
   "source": [
    "client_balance_summary = df_client_demo['balance'].describe()\n",
    "client_balance_summary"
   ]
  },
  {
   "cell_type": "markdown",
   "id": "cf28e11a-4f38-4852-aef3-9054af16d8ce",
   "metadata": {},
   "source": [
    "We merge web data with final experimentt in order to have in the same df the client id linked to its variation (if it is control or test)."
   ]
  },
  {
   "cell_type": "code",
   "execution_count": 10,
   "id": "e72540d2-6eea-422c-969c-be6b1931d29d",
   "metadata": {},
   "outputs": [
    {
     "data": {
      "text/html": [
       "<div>\n",
       "<style scoped>\n",
       "    .dataframe tbody tr th:only-of-type {\n",
       "        vertical-align: middle;\n",
       "    }\n",
       "\n",
       "    .dataframe tbody tr th {\n",
       "        vertical-align: top;\n",
       "    }\n",
       "\n",
       "    .dataframe thead th {\n",
       "        text-align: right;\n",
       "    }\n",
       "</style>\n",
       "<table border=\"1\" class=\"dataframe\">\n",
       "  <thead>\n",
       "    <tr style=\"text-align: right;\">\n",
       "      <th></th>\n",
       "      <th>client_id</th>\n",
       "      <th>visitor_id</th>\n",
       "      <th>visit_id</th>\n",
       "      <th>process_step</th>\n",
       "      <th>date_time</th>\n",
       "      <th>variation</th>\n",
       "    </tr>\n",
       "  </thead>\n",
       "  <tbody>\n",
       "    <tr>\n",
       "      <th>0</th>\n",
       "      <td>9988021</td>\n",
       "      <td>580560515_7732621733</td>\n",
       "      <td>781255054_21935453173_531117</td>\n",
       "      <td>step_3</td>\n",
       "      <td>2017-04-17 15:27:07</td>\n",
       "      <td>Test</td>\n",
       "    </tr>\n",
       "    <tr>\n",
       "      <th>1</th>\n",
       "      <td>9988021</td>\n",
       "      <td>580560515_7732621733</td>\n",
       "      <td>781255054_21935453173_531117</td>\n",
       "      <td>step_2</td>\n",
       "      <td>2017-04-17 15:26:51</td>\n",
       "      <td>Test</td>\n",
       "    </tr>\n",
       "    <tr>\n",
       "      <th>2</th>\n",
       "      <td>9988021</td>\n",
       "      <td>580560515_7732621733</td>\n",
       "      <td>781255054_21935453173_531117</td>\n",
       "      <td>step_3</td>\n",
       "      <td>2017-04-17 15:19:22</td>\n",
       "      <td>Test</td>\n",
       "    </tr>\n",
       "    <tr>\n",
       "      <th>3</th>\n",
       "      <td>9988021</td>\n",
       "      <td>580560515_7732621733</td>\n",
       "      <td>781255054_21935453173_531117</td>\n",
       "      <td>step_2</td>\n",
       "      <td>2017-04-17 15:19:13</td>\n",
       "      <td>Test</td>\n",
       "    </tr>\n",
       "    <tr>\n",
       "      <th>4</th>\n",
       "      <td>9988021</td>\n",
       "      <td>580560515_7732621733</td>\n",
       "      <td>781255054_21935453173_531117</td>\n",
       "      <td>step_3</td>\n",
       "      <td>2017-04-17 15:18:04</td>\n",
       "      <td>Test</td>\n",
       "    </tr>\n",
       "  </tbody>\n",
       "</table>\n",
       "</div>"
      ],
      "text/plain": [
       "   client_id            visitor_id                      visit_id process_step  \\\n",
       "0    9988021  580560515_7732621733  781255054_21935453173_531117       step_3   \n",
       "1    9988021  580560515_7732621733  781255054_21935453173_531117       step_2   \n",
       "2    9988021  580560515_7732621733  781255054_21935453173_531117       step_3   \n",
       "3    9988021  580560515_7732621733  781255054_21935453173_531117       step_2   \n",
       "4    9988021  580560515_7732621733  781255054_21935453173_531117       step_3   \n",
       "\n",
       "             date_time variation  \n",
       "0  2017-04-17 15:27:07      Test  \n",
       "1  2017-04-17 15:26:51      Test  \n",
       "2  2017-04-17 15:19:22      Test  \n",
       "3  2017-04-17 15:19:13      Test  \n",
       "4  2017-04-17 15:18:04      Test  "
      ]
     },
     "execution_count": 10,
     "metadata": {},
     "output_type": "execute_result"
    }
   ],
   "source": [
    "df_web_data_merged = pd.merge(df_web_data, df_experiment[['client_id', 'variation']], on='client_id', how='left')\n",
    "df_web_data_merged.head()"
   ]
  },
  {
   "cell_type": "code",
   "execution_count": null,
   "id": "31400717-43b9-4bec-9fa9-d71a0dff6d69",
   "metadata": {},
   "outputs": [],
   "source": [
    "df_web_data_merged.info()"
   ]
  },
  {
   "cell_type": "code",
   "execution_count": 15,
   "id": "7cbd22cb-1ddb-43ff-8c8b-04831b9cea1b",
   "metadata": {},
   "outputs": [
    {
     "name": "stdout",
     "output_type": "stream",
     "text": [
      "<class 'pandas.core.frame.DataFrame'>\n",
      "Index: 321309 entries, 0 to 637535\n",
      "Data columns (total 6 columns):\n",
      " #   Column        Non-Null Count   Dtype \n",
      "---  ------        --------------   ----- \n",
      " 0   client_id     321309 non-null  int64 \n",
      " 1   visitor_id    321309 non-null  object\n",
      " 2   visit_id      321309 non-null  object\n",
      " 3   process_step  321309 non-null  object\n",
      " 4   date_time     321309 non-null  object\n",
      " 5   variation     321309 non-null  object\n",
      "dtypes: int64(1), object(5)\n",
      "memory usage: 17.2+ MB\n"
     ]
    }
   ],
   "source": [
    "# After merging, we decided to drop all null values in the variation column since they are not part of the experiment.\n",
    "df_web_data_merged_cleaned = df_web_data_merged.dropna(subset=['variation'])\n",
    "df_web_data_merged_cleaned.info()"
   ]
  },
  {
   "cell_type": "markdown",
   "id": "618876bf-3fa2-4e9c-8817-ce3fa931de3c",
   "metadata": {},
   "source": [
    "We split df into two df one for \"Control\" and other for \"Test\" users"
   ]
  },
  {
   "cell_type": "code",
   "execution_count": 17,
   "id": "bfbae519-10e7-4213-9820-f534af56e038",
   "metadata": {},
   "outputs": [
    {
     "name": "stdout",
     "output_type": "stream",
     "text": [
      "<class 'pandas.core.frame.DataFrame'>\n",
      "Index: 143462 entries, 13 to 637535\n",
      "Data columns (total 6 columns):\n",
      " #   Column        Non-Null Count   Dtype \n",
      "---  ------        --------------   ----- \n",
      " 0   client_id     143462 non-null  int64 \n",
      " 1   visitor_id    143462 non-null  object\n",
      " 2   visit_id      143462 non-null  object\n",
      " 3   process_step  143462 non-null  object\n",
      " 4   date_time     143462 non-null  object\n",
      " 5   variation     143462 non-null  object\n",
      "dtypes: int64(1), object(5)\n",
      "memory usage: 7.7+ MB\n"
     ]
    }
   ],
   "source": [
    "web_data_merged_control = df_web_data_merged_cleaned[df_web_data_merged_cleaned['variation'] == 'Control']\n",
    "web_data_merged_control.info()"
   ]
  },
  {
   "cell_type": "code",
   "execution_count": 19,
   "id": "17bfb9b7-a30a-4d38-81f1-30e07260cbb4",
   "metadata": {},
   "outputs": [
    {
     "name": "stdout",
     "output_type": "stream",
     "text": [
      "<class 'pandas.core.frame.DataFrame'>\n",
      "Index: 177847 entries, 0 to 637487\n",
      "Data columns (total 6 columns):\n",
      " #   Column        Non-Null Count   Dtype \n",
      "---  ------        --------------   ----- \n",
      " 0   client_id     177847 non-null  int64 \n",
      " 1   visitor_id    177847 non-null  object\n",
      " 2   visit_id      177847 non-null  object\n",
      " 3   process_step  177847 non-null  object\n",
      " 4   date_time     177847 non-null  object\n",
      " 5   variation     177847 non-null  object\n",
      "dtypes: int64(1), object(5)\n",
      "memory usage: 9.5+ MB\n"
     ]
    }
   ],
   "source": [
    "web_data_merged_test = df_web_data_merged_cleaned[df_web_data_merged_cleaned['variation'] == 'Test']\n",
    "web_data_merged_test.info()"
   ]
  },
  {
   "cell_type": "code",
   "execution_count": 21,
   "id": "457fca5f-5bb2-432d-82de-42c745a222ec",
   "metadata": {},
   "outputs": [
    {
     "name": "stdout",
     "output_type": "stream",
     "text": [
      "Row counts match:  321309\n"
     ]
    }
   ],
   "source": [
    "#check that we did not lose information in this transformation\n",
    "\n",
    "total_cleaned = df_web_data_merged_cleaned.shape[0]\n",
    "total_control = web_data_merged_control.shape[0]\n",
    "total_test = web_data_merged_test.shape[0]\n",
    "if total_cleaned == (total_control + total_test):\n",
    "    print(\"Row counts match: \", total_cleaned)\n",
    "else:\n",
    "    print(\"Row counts do not match.\")\n",
    "    print(f\"Total Cleaned: {total_cleaned}, Control + Test: {total_control + total_test}\")"
   ]
  },
  {
   "cell_type": "code",
   "execution_count": null,
   "id": "b7cfb783-b17c-42f6-b6c9-7c5e35ce7804",
   "metadata": {},
   "outputs": [],
   "source": [
    "web_data_merged_control.head(20)\n",
    "web_data_merged_test.head(20)"
   ]
  },
  {
   "cell_type": "code",
   "execution_count": 23,
   "id": "1b86550a-2334-4726-8c4f-26729d7d0ef6",
   "metadata": {},
   "outputs": [
    {
     "name": "stderr",
     "output_type": "stream",
     "text": [
      "C:\\Users\\faval\\AppData\\Local\\Temp\\ipykernel_10748\\447546305.py:2: SettingWithCopyWarning: \n",
      "A value is trying to be set on a copy of a slice from a DataFrame.\n",
      "Try using .loc[row_indexer,col_indexer] = value instead\n",
      "\n",
      "See the caveats in the documentation: https://pandas.pydata.org/pandas-docs/stable/user_guide/indexing.html#returning-a-view-versus-a-copy\n",
      "  web_data_merged_control['date_time'] = pd.to_datetime(web_data_merged_control['date_time'])\n",
      "C:\\Users\\faval\\AppData\\Local\\Temp\\ipykernel_10748\\447546305.py:3: SettingWithCopyWarning: \n",
      "A value is trying to be set on a copy of a slice from a DataFrame.\n",
      "Try using .loc[row_indexer,col_indexer] = value instead\n",
      "\n",
      "See the caveats in the documentation: https://pandas.pydata.org/pandas-docs/stable/user_guide/indexing.html#returning-a-view-versus-a-copy\n",
      "  web_data_merged_test['date_time'] = pd.to_datetime(web_data_merged_test['date_time'])\n"
     ]
    }
   ],
   "source": [
    "# cast date_time as type = date\n",
    "web_data_merged_control['date_time'] = pd.to_datetime(web_data_merged_control['date_time'])\n",
    "web_data_merged_test['date_time'] = pd.to_datetime(web_data_merged_test['date_time'])"
   ]
  },
  {
   "cell_type": "code",
   "execution_count": 25,
   "id": "7975f8d5-e2f1-42d2-8017-6147b7639b81",
   "metadata": {},
   "outputs": [],
   "source": [
    "# sort df by visit_id and date_time in order to check the duration\n",
    "web_data_merged_control = web_data_merged_control.sort_values(by=[\"client_id\", \"visitor_id\",'visit_id', \"date_time\"])\n",
    "web_data_merged_test = web_data_merged_test.sort_values(by=[\"client_id\", \"visitor_id\",'visit_id', \"date_time\"])"
   ]
  },
  {
   "cell_type": "code",
   "execution_count": 27,
   "id": "a2eff811-8596-4c5e-b675-510d96fe9fd8",
   "metadata": {},
   "outputs": [],
   "source": [
    "# We filter for visits with a visit_id that don't have a start step.\n",
    "# These visits are considered to have started before the testing period,and thus, we exclude them from our analysis.\n",
    "web_data_filtered_control = web_data_merged_control.groupby('visit_id').filter(lambda group: 'start' in group['process_step'].values)\n",
    "web_data_filtered_test = web_data_merged_test.groupby('visit_id').filter(lambda group: 'start' in group['process_step'].values)"
   ]
  },
  {
   "cell_type": "code",
   "execution_count": 28,
   "id": "7ea8ba55-8094-4251-b652-c076c9bfb500",
   "metadata": {},
   "outputs": [],
   "source": [
    "web_data_filtered_control = web_data_filtered_control.sort_values(by=[\"client_id\", \"visitor_id\",'visit_id', \"date_time\"])\n",
    "web_data_filtered_test = web_data_filtered_test.sort_values(by=[\"client_id\", \"visitor_id\",'visit_id', \"date_time\"])"
   ]
  },
  {
   "cell_type": "code",
   "execution_count": 29,
   "id": "74148745-00d0-46c2-ad3f-c1b543535a5b",
   "metadata": {},
   "outputs": [],
   "source": [
    "web_data_filtered_control.to_csv('web_data_filtered_control.csv', index=False)\n",
    "web_data_filtered_test.to_csv('web_data_filtered_test.csv', index=False)"
   ]
  },
  {
   "cell_type": "code",
   "execution_count": null,
   "id": "878293af-db37-41ec-81fc-18a209c55c5b",
   "metadata": {},
   "outputs": [],
   "source": []
  }
 ],
 "metadata": {
  "kernelspec": {
   "display_name": "Python 3 (ipykernel)",
   "language": "python",
   "name": "python3"
  },
  "language_info": {
   "codemirror_mode": {
    "name": "ipython",
    "version": 3
   },
   "file_extension": ".py",
   "mimetype": "text/x-python",
   "name": "python",
   "nbconvert_exporter": "python",
   "pygments_lexer": "ipython3",
   "version": "3.12.3"
  }
 },
 "nbformat": 4,
 "nbformat_minor": 5
}
