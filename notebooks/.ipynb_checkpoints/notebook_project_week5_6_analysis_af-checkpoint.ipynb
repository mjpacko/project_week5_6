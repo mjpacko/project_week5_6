{
 "cells": [
  {
   "cell_type": "code",
   "execution_count": null,
   "id": "68351f74-396d-4e48-90c8-50c0cb5c756d",
   "metadata": {
    "jupyter": {
     "source_hidden": true
    }
   },
   "outputs": [],
   "source": [
    "#calculate length\n",
    "\n",
    "# Shift the 'date_time' column to compare each row with the next row\n",
    "#df_web_data['next_time'] = df_web_data['date_time'].shift(-1)\n",
    "\n",
    "# Calculate the difference between the current and next time\n",
    "#df_web_data['time_diff'] = df_web_data['next_time'] - df_web_data['date_time']\n",
    "\n",
    "# Convert time difference to minutes\n",
    "#df_web_data['time_diff_minutes'] = df_web_data['time_diff'].dt.total_seconds() / 60\n",
    "\n",
    "# Only keep relevant rows for this calculation\n",
    "#df_final = df.loc[:, ['date_time', 'time_diff_minutes']]\n",
    "#df_web_data.head()"
   ]
  },
  {
   "cell_type": "code",
   "execution_count": null,
   "id": "368c9907-d47d-4591-bfb0-55d35168cd78",
   "metadata": {},
   "outputs": [],
   "source": [
    "import pandas as pd\n",
    "import os\n",
    "import glob\n",
    "import numpy as np\n",
    "from matplotlib import pyplot as plt\n",
    "import seaborn as sns\n",
    "from scipy.stats import skew, kurtosis"
   ]
  },
  {
   "cell_type": "code",
   "execution_count": null,
   "id": "c29c334f-0c1e-402c-ac8d-68c139228687",
   "metadata": {},
   "outputs": [],
   "source": [
    "df_client_demo = pd.read_csv(\"../data_files/clean/df_client_demo.csv\")\n",
    "df_experiment = pd.read_csv(\"../data_files/clean/df_experiment.csv\")\n",
    "df_web_data = pd.read_csv(\"../data_files/clean/df_web_data.csv\")"
   ]
  },
  {
   "cell_type": "code",
   "execution_count": null,
   "id": "d6522748-c198-467a-9e85-09bbd696bed4",
   "metadata": {},
   "outputs": [],
   "source": [
    "df_client_demo.head()"
   ]
  },
  {
   "cell_type": "code",
   "execution_count": null,
   "id": "bd964cde-d822-4bf6-b9f6-6df2b4b26907",
   "metadata": {},
   "outputs": [],
   "source": [
    "df_client_demo.info()"
   ]
  },
  {
   "cell_type": "code",
   "execution_count": null,
   "id": "6033d448-7739-4e3f-a317-f8c185c7e6da",
   "metadata": {},
   "outputs": [],
   "source": [
    "df_experiment.head()"
   ]
  },
  {
   "cell_type": "code",
   "execution_count": null,
   "id": "e713541a-4922-4265-a977-7b0a782834f7",
   "metadata": {},
   "outputs": [],
   "source": [
    "df_web_data.head()"
   ]
  },
  {
   "cell_type": "code",
   "execution_count": null,
   "id": "334215bc-841c-46ed-a07e-1577815e8e49",
   "metadata": {},
   "outputs": [],
   "source": [
    "client_tenure_month_summary = df_client_demo['client_tenure_month'].describe()\n",
    "client_tenure_month_summary"
   ]
  },
  {
   "cell_type": "code",
   "execution_count": null,
   "id": "62ae3e12-f1a6-4e88-a814-e0558c535a7e",
   "metadata": {},
   "outputs": [],
   "source": [
    "client_age_summary = df_client_demo['client_age'].describe()\n",
    "client_age_summary"
   ]
  },
  {
   "cell_type": "code",
   "execution_count": null,
   "id": "58462bf4-99db-406b-80f8-f8d8bd6046c7",
   "metadata": {},
   "outputs": [],
   "source": [
    "# Box Plot of Client Ages\n",
    "plt.figure(figsize=(9, 6))\n",
    "sns.boxplot(y=df_client_demo['client_age'], color='salmon')\n",
    "plt.title('Box Plot of Client Ages')\n",
    "plt.ylabel('Age')\n",
    "plt.show()"
   ]
  },
  {
   "cell_type": "code",
   "execution_count": null,
   "id": "ed66f8c5-905f-4733-9362-cf865407b427",
   "metadata": {},
   "outputs": [],
   "source": [
    "# Box Plot of Client Tenure Months\n",
    "plt.figure(figsize=(9, 6))\n",
    "sns.boxplot(y=df_client_demo['client_tenure_month'], color='cornflowerblue')\n",
    "plt.title('Box Plot of Client Tenure Months')\n",
    "plt.ylabel('Months')\n",
    "plt.show()"
   ]
  },
  {
   "cell_type": "code",
   "execution_count": null,
   "id": "69b58967-f71e-427c-8618-889f5e22efcd",
   "metadata": {},
   "outputs": [],
   "source": [
    "age_skewness_value = skew(df_client_demo['client_age'])\n",
    "age_skewness_value\n",
    "# This suggests that your distribution is nearly symmetrical, with no significant skew to either the left or right.\n",
    "# The data is more or less evenly distributed around the mean, closer in shape to a normal distribution."
   ]
  },
  {
   "cell_type": "code",
   "execution_count": null,
   "id": "71c6d305-622a-45ad-a455-f354c942794a",
   "metadata": {},
   "outputs": [],
   "source": [
    "age_kurtosis_value = kurtosis(df_client_demo['client_age'])\n",
    "age_kurtosis_value\n",
    "# This suggests that the distribution of your data has lighter tails and a flatter peak than a normal distribution.\n",
    "# In practical terms, this means the data produces fewer extreme values or outliers compared to a normal distribution."
   ]
  },
  {
   "cell_type": "code",
   "execution_count": null,
   "id": "bde6a34c-7a5c-47a9-a690-c515f5f6f1f5",
   "metadata": {},
   "outputs": [],
   "source": [
    "tenure_month_skewness_value = skew(df_client_demo['client_tenure_month'])\n",
    "tenure_month_skewness_value\n",
    "# The distribution has a longer tail extending towards the higher values.\n",
    "# This positive skewness suggests that there are outliers or a few high values that are pulling the mean to the right."
   ]
  },
  {
   "cell_type": "code",
   "execution_count": null,
   "id": "505a857d-4ba2-435b-9064-ab1607485574",
   "metadata": {},
   "outputs": [],
   "source": [
    "tenure_month_kurtosis_value = kurtosis(df_client_demo['client_tenure_month'])\n",
    "tenure_month_kurtosis_value\n",
    "# The distribution has slightly heavier tails and a somewhat sharper peak than a normal distribution, indicating a moderate presence of outliers.\n",
    "# The data is generally clustered around the mean more tightly than it would be in a normal distribution, with a few higher-than-usual deviations from the mean."
   ]
  },
  {
   "cell_type": "code",
   "execution_count": null,
   "id": "77b79912-d4be-423b-9986-b83430ff654e",
   "metadata": {},
   "outputs": [],
   "source": [
    "# Calculate the Pearson correlation coefficient for age vs tenure months\n",
    "correlation = df_client_demo['client_age'].corr(df_client_demo['client_tenure_month'])\n",
    "print(f\"Correlation between client_age and client_tenure_month: {correlation:.2f}\")\n",
    "# Although positive, a 0,31 coefficient reflects a no strong correlation"
   ]
  },
  {
   "cell_type": "code",
   "execution_count": null,
   "id": "148de86f-d4a9-4606-8aea-ccb95f0e99e0",
   "metadata": {},
   "outputs": [],
   "source": [
    "# Create a scatter plot to visualize the relationship\n",
    "plt.figure(figsize=(10, 6))\n",
    "sns.scatterplot(x='client_age', y='client_tenure_month', data=df_client_demo, color='blue')\n",
    "# Add a line for better visual of trend\n",
    "sns.regplot(x='client_age', y='client_tenure_month', data=df_client_demo, scatter=False, color='red', ci=None)\n",
    "# Add titles and labels\n",
    "plt.title('Scatter Plot of Client Age vs. Client Tenure Month')\n",
    "plt.xlabel('Client Age')\n",
    "plt.ylabel('Client Tenure (Months)')\n",
    "# Display the plot\n",
    "plt.show()"
   ]
  },
  {
   "cell_type": "code",
   "execution_count": null,
   "id": "598639f4-93a2-485a-a739-fc5da6809c9e",
   "metadata": {},
   "outputs": [],
   "source": [
    "client_balance_summary = df_client_demo['balance'].describe()\n",
    "client_balance_summary"
   ]
  },
  {
   "cell_type": "markdown",
   "id": "cf28e11a-4f38-4852-aef3-9054af16d8ce",
   "metadata": {},
   "source": [
    "We merge web data with final experimentt in order to have in the same df the client id linked to its variation (if it is control or test)."
   ]
  },
  {
   "cell_type": "code",
   "execution_count": null,
   "id": "e72540d2-6eea-422c-969c-be6b1931d29d",
   "metadata": {},
   "outputs": [],
   "source": [
    "df_web_data_merged = pd.merge(df_web_data, df_experiment[['client_id', 'variation']], on='client_id', how='left')\n",
    "df_web_data_merged.head()"
   ]
  },
  {
   "cell_type": "code",
   "execution_count": null,
   "id": "31400717-43b9-4bec-9fa9-d71a0dff6d69",
   "metadata": {},
   "outputs": [],
   "source": [
    "df_web_data_merged.info()"
   ]
  },
  {
   "cell_type": "code",
   "execution_count": null,
   "id": "7cbd22cb-1ddb-43ff-8c8b-04831b9cea1b",
   "metadata": {},
   "outputs": [],
   "source": [
    "# After merging, we decided to drop all null values in the variation column since they are not part of the experiment.\n",
    "df_web_data_merged_cleaned = df_web_data_merged.dropna(subset=['variation'])\n",
    "df_web_data_merged_cleaned.info()"
   ]
  },
  {
   "cell_type": "markdown",
   "id": "618876bf-3fa2-4e9c-8817-ce3fa931de3c",
   "metadata": {},
   "source": [
    "We split df into two df one for \"Control\" and other for \"Test\" users"
   ]
  },
  {
   "cell_type": "code",
   "execution_count": null,
   "id": "bfbae519-10e7-4213-9820-f534af56e038",
   "metadata": {},
   "outputs": [],
   "source": [
    "df_web_data_merged_control = df_web_data_merged_cleaned[df_web_data_merged_cleaned['variation'] == 'Control']\n",
    "df_web_data_merged_control.info()"
   ]
  },
  {
   "cell_type": "code",
   "execution_count": null,
   "id": "17bfb9b7-a30a-4d38-81f1-30e07260cbb4",
   "metadata": {},
   "outputs": [],
   "source": [
    "df_web_data_merged_test = df_web_data_merged_cleaned[df_web_data_merged_cleaned['variation'] == 'Test']\n",
    "df_web_data_merged_test.info()"
   ]
  },
  {
   "cell_type": "code",
   "execution_count": null,
   "id": "457fca5f-5bb2-432d-82de-42c745a222ec",
   "metadata": {},
   "outputs": [],
   "source": [
    "#check that we did not lose information in this transformation\n",
    "\n",
    "total_cleaned = df_web_data_merged_cleaned.shape[0]\n",
    "total_control = df_web_data_merged_control.shape[0]\n",
    "total_test = df_web_data_merged_test.shape[0]\n",
    "if total_cleaned == (total_control + total_test):\n",
    "    print(\"Row counts match: \", total_cleaned)\n",
    "else:\n",
    "    print(\"Row counts do not match.\")\n",
    "    print(f\"Total Cleaned: {total_cleaned}, Control + Test: {total_control + total_test}\")"
   ]
  },
  {
   "cell_type": "code",
   "execution_count": 155,
   "id": "74148745-00d0-46c2-ad3f-c1b543535a5b",
   "metadata": {},
   "outputs": [],
   "source": [
    "df_web_data_merged_control.to_csv('web_data_merged_control.csv', index=False)\n",
    "df_web_data_merged_test.to_csv('web_data_merged_test.csv', index=False)"
   ]
  },
  {
   "cell_type": "code",
   "execution_count": null,
   "id": "2203375e-97c7-427f-a349-198960b039c2",
   "metadata": {},
   "outputs": [],
   "source": []
  }
 ],
 "metadata": {
  "kernelspec": {
   "display_name": "Python 3 (ipykernel)",
   "language": "python",
   "name": "python3"
  },
  "language_info": {
   "codemirror_mode": {
    "name": "ipython",
    "version": 3
   },
   "file_extension": ".py",
   "mimetype": "text/x-python",
   "name": "python",
   "nbconvert_exporter": "python",
   "pygments_lexer": "ipython3",
   "version": "3.12.3"
  }
 },
 "nbformat": 4,
 "nbformat_minor": 5
}
