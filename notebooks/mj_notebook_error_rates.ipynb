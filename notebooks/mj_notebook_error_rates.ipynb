{
 "cells": [
  {
   "cell_type": "code",
   "execution_count": 187,
   "id": "72f76060-08e8-4113-ba66-4cafa1f7eab8",
   "metadata": {},
   "outputs": [],
   "source": [
    "import pandas as pd\n",
    "import matplotlib.pyplot as plt\n",
    "import seaborn as sns\n",
    "import numpy as np\n",
    "from scipy.stats import skew, kurtosis\n",
    "from scipy.stats import mannwhitneyu\n",
    "from scipy.stats import ttest_ind\n",
    "\n",
    "%matplotlib inline"
   ]
  },
  {
   "cell_type": "code",
   "execution_count": 135,
   "id": "0054a9bb-c943-4a5e-866d-11608a8b1a5d",
   "metadata": {},
   "outputs": [],
   "source": [
    "df_control = pd.read_csv(\"../data_files/clean/web_data_filtered_control.csv\")\n",
    "df_test = pd.read_csv(\"../data_files/clean/web_data_filtered_test.csv\")"
   ]
  },
  {
   "cell_type": "code",
   "execution_count": 136,
   "id": "9f22035f-9385-4fd8-980f-1329aa5417e5",
   "metadata": {},
   "outputs": [],
   "source": [
    "#function to drop values which list 'confirm', as there is no way to encounter an error at this step \n",
    "def remove_confirms(df):\n",
    "    df_steps = df[df['process_step'] != 'confirm']\n",
    "    return df_steps"
   ]
  },
  {
   "cell_type": "code",
   "execution_count": 141,
   "id": "5bc9c386-bbc4-48e7-93f6-ff7101bb85c3",
   "metadata": {},
   "outputs": [],
   "source": [
    "df_control = remove_confirms(df_control)\n",
    "df_test = remove_confirms(df_test)"
   ]
  },
  {
   "cell_type": "code",
   "execution_count": 144,
   "id": "6113c996-a39c-4537-aec4-a57df4624149",
   "metadata": {},
   "outputs": [],
   "source": [
    "def error_counts(df):\n",
    "    grouped_counts = df.groupby('client_id')['process_step'].value_counts()\n",
    "    adjusted_counts_df = grouped_counts.reset_index(name='error_count')\n",
    "    adjusted_counts_df['error_count'] = adjusted_counts_df['error_count'] - 1\n",
    "    adjusted_counts_df.columns = ['client_id', 'process_step', 'error_count']\n",
    "    return adjusted_counts_df"
   ]
  },
  {
   "cell_type": "code",
   "execution_count": 148,
   "id": "8d8b617e",
   "metadata": {},
   "outputs": [],
   "source": [
    "df_control_error = error_counts(df_control)\n",
    "df_test_error = error_counts(df_test)\n",
    "df_control_error[\"variation\"] = 'control'\n",
    "df_test_error[\"variation\"] = 'test'"
   ]
  },
  {
   "cell_type": "code",
   "execution_count": 149,
   "id": "b815cc3e-b441-4bb1-a790-52a14108e7c6",
   "metadata": {},
   "outputs": [
    {
     "data": {
      "text/html": [
       "<div>\n",
       "<style scoped>\n",
       "    .dataframe tbody tr th:only-of-type {\n",
       "        vertical-align: middle;\n",
       "    }\n",
       "\n",
       "    .dataframe tbody tr th {\n",
       "        vertical-align: top;\n",
       "    }\n",
       "\n",
       "    .dataframe thead th {\n",
       "        text-align: right;\n",
       "    }\n",
       "</style>\n",
       "<table border=\"1\" class=\"dataframe\">\n",
       "  <thead>\n",
       "    <tr style=\"text-align: right;\">\n",
       "      <th></th>\n",
       "      <th>client_id</th>\n",
       "      <th>process_step</th>\n",
       "      <th>error_count</th>\n",
       "      <th>variation</th>\n",
       "    </tr>\n",
       "  </thead>\n",
       "  <tbody>\n",
       "    <tr>\n",
       "      <th>0</th>\n",
       "      <td>1028</td>\n",
       "      <td>step_1</td>\n",
       "      <td>4</td>\n",
       "      <td>control</td>\n",
       "    </tr>\n",
       "    <tr>\n",
       "      <th>1</th>\n",
       "      <td>1028</td>\n",
       "      <td>step_2</td>\n",
       "      <td>1</td>\n",
       "      <td>control</td>\n",
       "    </tr>\n",
       "    <tr>\n",
       "      <th>2</th>\n",
       "      <td>1028</td>\n",
       "      <td>start</td>\n",
       "      <td>0</td>\n",
       "      <td>control</td>\n",
       "    </tr>\n",
       "    <tr>\n",
       "      <th>3</th>\n",
       "      <td>1028</td>\n",
       "      <td>step_3</td>\n",
       "      <td>0</td>\n",
       "      <td>control</td>\n",
       "    </tr>\n",
       "    <tr>\n",
       "      <th>4</th>\n",
       "      <td>1104</td>\n",
       "      <td>start</td>\n",
       "      <td>1</td>\n",
       "      <td>control</td>\n",
       "    </tr>\n",
       "    <tr>\n",
       "      <th>...</th>\n",
       "      <td>...</td>\n",
       "      <td>...</td>\n",
       "      <td>...</td>\n",
       "      <td>...</td>\n",
       "    </tr>\n",
       "    <tr>\n",
       "      <th>78849</th>\n",
       "      <td>9998346</td>\n",
       "      <td>step_2</td>\n",
       "      <td>3</td>\n",
       "      <td>control</td>\n",
       "    </tr>\n",
       "    <tr>\n",
       "      <th>78850</th>\n",
       "      <td>9998346</td>\n",
       "      <td>step_3</td>\n",
       "      <td>3</td>\n",
       "      <td>control</td>\n",
       "    </tr>\n",
       "    <tr>\n",
       "      <th>78851</th>\n",
       "      <td>9998346</td>\n",
       "      <td>step_1</td>\n",
       "      <td>1</td>\n",
       "      <td>control</td>\n",
       "    </tr>\n",
       "    <tr>\n",
       "      <th>78852</th>\n",
       "      <td>9998346</td>\n",
       "      <td>start</td>\n",
       "      <td>0</td>\n",
       "      <td>control</td>\n",
       "    </tr>\n",
       "    <tr>\n",
       "      <th>78853</th>\n",
       "      <td>9998921</td>\n",
       "      <td>start</td>\n",
       "      <td>0</td>\n",
       "      <td>control</td>\n",
       "    </tr>\n",
       "  </tbody>\n",
       "</table>\n",
       "<p>78854 rows × 4 columns</p>\n",
       "</div>"
      ],
      "text/plain": [
       "       client_id process_step  error_count variation\n",
       "0           1028       step_1            4   control\n",
       "1           1028       step_2            1   control\n",
       "2           1028        start            0   control\n",
       "3           1028       step_3            0   control\n",
       "4           1104        start            1   control\n",
       "...          ...          ...          ...       ...\n",
       "78849    9998346       step_2            3   control\n",
       "78850    9998346       step_3            3   control\n",
       "78851    9998346       step_1            1   control\n",
       "78852    9998346        start            0   control\n",
       "78853    9998921        start            0   control\n",
       "\n",
       "[78854 rows x 4 columns]"
      ]
     },
     "execution_count": 149,
     "metadata": {},
     "output_type": "execute_result"
    }
   ],
   "source": [
    "df_control_error"
   ]
  },
  {
   "cell_type": "code",
   "execution_count": 190,
   "id": "04d4dda8-2d3f-4b85-b5da-608a54279600",
   "metadata": {},
   "outputs": [],
   "source": [
    "df_merged_error = pd.concat([df_test_error, df_control_error], axis=0, ignore_index=True)"
   ]
  },
  {
   "cell_type": "markdown",
   "id": "18293869",
   "metadata": {},
   "source": [
    "PROCESS STEP BY ERROR COUNT"
   ]
  },
  {
   "cell_type": "code",
   "execution_count": 212,
   "id": "a1df963d",
   "metadata": {},
   "outputs": [
    {
     "data": {
      "text/plain": [
       "process_step\n",
       "start     24211\n",
       "step_1     9319\n",
       "step_2     7011\n",
       "step_3     5188\n",
       "Name: error_count, dtype: int64"
      ]
     },
     "execution_count": 212,
     "metadata": {},
     "output_type": "execute_result"
    }
   ],
   "source": [
    "df_control_error_group1 = df_control_error.groupby(\"process_step\")[\"error_count\"].sum()\n",
    "df_control_error_group1"
   ]
  },
  {
   "cell_type": "code",
   "execution_count": 214,
   "id": "496ff99d",
   "metadata": {},
   "outputs": [
    {
     "data": {
      "image/png": "[encoded data removed]",
      "text/plain": [
       "<Figure size 640x480 with 1 Axes>"
      ]
     },
     "metadata": {},
     "output_type": "display_data"
    }
   ],
   "source": [
    "df_control_error_group1.plot.pie(autopct='%1.1f%%', startangle=90, colors=sns.color_palette(\"Set2\"));"
   ]
  },
  {
   "cell_type": "code",
   "execution_count": 215,
   "id": "b5d5be81",
   "metadata": {},
   "outputs": [
    {
     "data": {
      "text/plain": [
       "process_step\n",
       "start     29795\n",
       "step_1    14337\n",
       "step_2     8560\n",
       "step_3     4876\n",
       "Name: error_count, dtype: int64"
      ]
     },
     "execution_count": 215,
     "metadata": {},
     "output_type": "execute_result"
    }
   ],
   "source": [
    "df_test_error_group1 = df_test_error.groupby(\"process_step\")[\"error_count\"].sum()\n",
    "df_test_error_group1"
   ]
  },
  {
   "cell_type": "code",
   "execution_count": 216,
   "id": "44db6335",
   "metadata": {},
   "outputs": [
    {
     "data": {
      "image/png": "[encoded data removed]",
      "text/plain": [
       "<Figure size 640x480 with 1 Axes>"
      ]
     },
     "metadata": {},
     "output_type": "display_data"
    }
   ],
   "source": [
    "df_test_error_group1.plot.pie(autopct='%1.1f%%', startangle=90, colors=sns.color_palette(\"Set2\"));"
   ]
  },
  {
   "cell_type": "markdown",
   "id": "bbb60506",
   "metadata": {},
   "source": [
    "AVERAGE ERROR RATES"
   ]
  },
  {
   "cell_type": "code",
   "execution_count": 191,
   "id": "6534781a-7a14-4bf1-a0c2-90e137ebad44",
   "metadata": {},
   "outputs": [
    {
     "data": {
      "text/plain": [
       "count    23397.000000\n",
       "mean         1.954481\n",
       "std          3.571226\n",
       "min          0.000000\n",
       "25%          0.000000\n",
       "50%          1.000000\n",
       "75%          3.000000\n",
       "max         78.000000\n",
       "Name: error_count, dtype: float64"
      ]
     },
     "execution_count": 191,
     "metadata": {},
     "output_type": "execute_result"
    }
   ],
   "source": [
    "df_control_error_group = df_control_error.groupby(\"client_id\")[\"error_count\"].sum()\n",
    "df_control_error_group.describe()"
   ]
  },
  {
   "cell_type": "code",
   "execution_count": 192,
   "id": "11dec5e1",
   "metadata": {},
   "outputs": [
    {
     "data": {
      "text/plain": [
       "count    26679.000000\n",
       "mean         2.157802\n",
       "std          3.759256\n",
       "min          0.000000\n",
       "25%          0.000000\n",
       "50%          1.000000\n",
       "75%          3.000000\n",
       "max         76.000000\n",
       "Name: error_count, dtype: float64"
      ]
     },
     "execution_count": 192,
     "metadata": {},
     "output_type": "execute_result"
    }
   ],
   "source": [
    "df_test_error_group = df_test_error.groupby(\"client_id\")[\"error_count\"].sum()\n",
    "df_test_error_group.describe()"
   ]
  },
  {
   "cell_type": "markdown",
   "id": "87aa86eb",
   "metadata": {},
   "source": [
    "AVERAGE ERROR RATES, ADJUSTED FOR OUTLIERS"
   ]
  },
  {
   "cell_type": "code",
   "execution_count": 193,
   "id": "cec15240",
   "metadata": {},
   "outputs": [],
   "source": [
    "df_test_filtered = df_test_error[df_test_error[\"error_count\"] <= 20]\n",
    "df_control_filtered = df_control_error[df_control_error[\"error_count\"] <= 20]\n",
    "\n",
    "df_test_error_group1 = df_test_filtered.groupby(\"client_id\")[\"error_count\"].sum()\n",
    "df_control_error_group1 = df_control_filtered.groupby(\"client_id\")[\"error_count\"].sum()\n"
   ]
  },
  {
   "cell_type": "code",
   "execution_count": 195,
   "id": "7322ed31",
   "metadata": {},
   "outputs": [
    {
     "data": {
      "text/plain": [
       "count    26679.000000\n",
       "mean         2.145433\n",
       "std          3.661607\n",
       "min          0.000000\n",
       "25%          0.000000\n",
       "50%          1.000000\n",
       "75%          3.000000\n",
       "max         66.000000\n",
       "Name: error_count, dtype: float64"
      ]
     },
     "execution_count": 195,
     "metadata": {},
     "output_type": "execute_result"
    }
   ],
   "source": [
    "df_test_error_group1.describe()"
   ]
  },
  {
   "cell_type": "code",
   "execution_count": 194,
   "id": "1006f094",
   "metadata": {},
   "outputs": [
    {
     "data": {
      "text/plain": [
       "count    23397.000000\n",
       "mean         1.894474\n",
       "std          3.181577\n",
       "min          0.000000\n",
       "25%          0.000000\n",
       "50%          1.000000\n",
       "75%          3.000000\n",
       "max         45.000000\n",
       "Name: error_count, dtype: float64"
      ]
     },
     "execution_count": 194,
     "metadata": {},
     "output_type": "execute_result"
    }
   ],
   "source": [
    "df_control_error_group1.describe()"
   ]
  },
  {
   "cell_type": "markdown",
   "id": "b39dfe43",
   "metadata": {},
   "source": [
    "HYPOTHESIS TESTING, ERROR RATES"
   ]
  },
  {
   "cell_type": "markdown",
   "id": "80dee413",
   "metadata": {},
   "source": [
    "H0 = Average number of errors per user in the test group was equal to or greater than the control group\n",
    "\n",
    "H1 = Average number of errors per user in the test group was less than the control group"
   ]
  },
  {
   "cell_type": "code",
   "execution_count": null,
   "id": "6e286670",
   "metadata": {},
   "outputs": [
    {
     "data": {
      "text/plain": [
       "1.9544813437620208"
      ]
     },
     "execution_count": 203,
     "metadata": {},
     "output_type": "execute_result"
    }
   ],
   "source": [
    "error_test_mean = df_test_error_group.mean()\n",
    "error_control_mean = df_control_error_group.mean()\n"
   ]
  },
  {
   "cell_type": "code",
   "execution_count": null,
   "id": "fba42f3d",
   "metadata": {},
   "outputs": [
    {
     "name": "stdout",
     "output_type": "stream",
     "text": [
      "Statistics=0.000, p=0.500\n",
      "Fail to reject the null hypothesis - no significant evidence that the mean time for Test is less.\n"
     ]
    }
   ],
   "source": []
  },
  {
   "cell_type": "code",
   "execution_count": null,
   "id": "f79f8632",
   "metadata": {},
   "outputs": [],
   "source": []
  }
 ],
 "metadata": {
  "kernelspec": {
   "display_name": "base",
   "language": "python",
   "name": "python3"
  },
  "language_info": {
   "codemirror_mode": {
    "name": "ipython",
    "version": 3
   },
   "file_extension": ".py",
   "mimetype": "text/x-python",
   "name": "python",
   "nbconvert_exporter": "python",
   "pygments_lexer": "ipython3",
   "version": "3.12.4"
  }
 },
 "nbformat": 4,
 "nbformat_minor": 5
}
