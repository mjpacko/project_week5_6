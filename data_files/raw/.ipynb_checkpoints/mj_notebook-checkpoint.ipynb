{
 "cells": [
  {
   "cell_type": "code",
   "execution_count": 20,
   "id": "c48eec5f-94c1-433f-9c3d-37e105ce0a65",
   "metadata": {},
   "outputs": [
    {
     "data": {
      "text/plain": [
       "(70609, 9)"
      ]
     },
     "execution_count": 20,
     "metadata": {},
     "output_type": "execute_result"
    }
   ],
   "source": [
    "import pandas as pd\n",
    "import matplotlib.pyplot as plt\n",
    "import seaborn as sns\n",
    "import numpy as np\n",
    "\n",
    "%matplotlib inline\n",
    "\n",
    "#df = pd.read_csv(\"https://github.com/mjpacko/project_week5_6/blob/d9f74530c258e2e0a4e0c0f3f031ea49d3f866b8/data_files/raw/df_final_demo.csv\",on_bad_lines='skip')\n",
    "#df = pd.read_csv(\"https://raw.githubusercontent.com/mjpacko/project_week5_6/refs/heads/main/data_files/raw/df_final_demo.csv\")\n",
    "df = pd.read_csv(\"df_final_demo.csv\")\n",
    "df.shape\n"
   ]
  },
  {
   "cell_type": "code",
   "execution_count": null,
   "id": "26d78a93-f491-4242-919e-64dd5a916624",
   "metadata": {},
   "outputs": [],
   "source": []
  }
 ],
 "metadata": {
  "kernelspec": {
   "display_name": "Python 3 (ipykernel)",
   "language": "python",
   "name": "python3"
  },
  "language_info": {
   "codemirror_mode": {
    "name": "ipython",
    "version": 3
   },
   "file_extension": ".py",
   "mimetype": "text/x-python",
   "name": "python",
   "nbconvert_exporter": "python",
   "pygments_lexer": "ipython3",
   "version": "3.12.4"
  }
 },
 "nbformat": 4,
 "nbformat_minor": 5
}
